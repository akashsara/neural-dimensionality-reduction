{
 "cells": [
  {
   "cell_type": "code",
   "execution_count": null,
   "id": "piano-artist",
   "metadata": {
    "id": "piano-artist"
   },
   "outputs": [],
   "source": [
    "import torch\n",
    "from torch import nn\n",
    "import numpy as np"
   ]
  },
  {
   "cell_type": "code",
   "execution_count": null,
   "id": "advisory-designation",
   "metadata": {
    "colab": {
     "base_uri": "https://localhost:8080/"
    },
    "id": "advisory-designation",
    "outputId": "73c25ad3-d009-4274-8761-d5313a51ee67"
   },
   "outputs": [],
   "source": [
    "import typing\n",
    "from typing import List, Tuple, Dict\n",
    "from tqdm import tqdm"
   ]
  },
  {
   "cell_type": "markdown",
   "id": "sDy2wkshvgGi",
   "metadata": {
    "id": "sDy2wkshvgGi"
   },
   "source": [
    "Colab-Specific Settings"
   ]
  },
  {
   "cell_type": "code",
   "execution_count": null,
   "id": "fQZjfi86vZLg",
   "metadata": {
    "colab": {
     "base_uri": "https://localhost:8080/"
    },
    "id": "fQZjfi86vZLg",
    "outputId": "14ca38e9-83b7-42e1-cf80-703b6d4132f4"
   },
   "outputs": [],
   "source": [
    "from google.colab import drive\n",
    "!pip install seqeval\n",
    "drive.mount(\"/content/drive/\")"
   ]
  },
  {
   "cell_type": "markdown",
   "id": "noticed-profile",
   "metadata": {},
   "source": [
    "Putting this separately since it isn't installed by default in colab"
   ]
  },
  {
   "cell_type": "code",
   "execution_count": null,
   "id": "infinite-foundation",
   "metadata": {},
   "outputs": [],
   "source": [
    "from seqeval import metrics"
   ]
  },
  {
   "cell_type": "markdown",
   "id": "alert-mills",
   "metadata": {
    "id": "alert-mills"
   },
   "source": [
    "# Config"
   ]
  },
  {
   "cell_type": "code",
   "execution_count": null,
   "id": "molecular-foundation",
   "metadata": {
    "id": "molecular-foundation"
   },
   "outputs": [],
   "source": [
    "colab_prefix = \"drive/MyDrive/CMPUT651_DL4NLP/\"\n",
    "\n",
    "source_embedding_dim = 300\n",
    "version = 1\n",
    "model_type = \"supervised_distilled\"\n",
    "embedding_dim = 50\n",
    "nn_hidden_size = 50\n",
    "\n",
    "experiment_name = f\"{model_type}_{source_embedding_dim}to{embedding_dim}_v{version}\"\n",
    "embedding_path = colab_prefix + f\"data/embeddings/trained/{experiment_name}.glove.6B.300d.txt\"\n",
    "model_output_path = colab_prefix + f\"models/classifier_glove_{experiment_name}.pt\"\n",
    "# embedding_path = colab_prefix + f\"data/embeddings/base/glove.6B.300d.txt\"\n",
    "# model_output_path = colab_prefix + f\"models/classifier_hidden10_glove_clipped_300d.pt\"\n",
    "\n",
    "freeze_embeddings = True\n",
    "epochs = 5\n",
    "batch_size = 32\n",
    "learning_rate = 1e-3\n",
    "\n",
    "train_datapath = colab_prefix + \"data/datasets/conll_2003/train.txt\"\n",
    "validation_datapath = colab_prefix + \"data/datasets/conll_2003/valid.txt\"\n",
    "test_datapath = colab_prefix + \"data/datasets/conll_2003/test.txt\"\n",
    "\n",
    "pad_tag = \"<PAD>\"\n",
    "unk_tag = \"<UNK>\""
   ]
  },
  {
   "cell_type": "code",
   "execution_count": null,
   "id": "institutional-alabama",
   "metadata": {
    "id": "institutional-alabama"
   },
   "outputs": [],
   "source": [
    "gpu = torch.cuda.is_available()\n",
    "device = torch.device(\"cuda\" if gpu else \"cpu\")"
   ]
  },
  {
   "cell_type": "code",
   "execution_count": null,
   "id": "62OAFRIK3Tfo",
   "metadata": {
    "colab": {
     "base_uri": "https://localhost:8080/"
    },
    "id": "62OAFRIK3Tfo",
    "outputId": "fd39c74a-94e7-49e2-894d-0121ec269e5a"
   },
   "outputs": [],
   "source": [
    "print(experiment_name)\n",
    "print(gpu, device)"
   ]
  },
  {
   "cell_type": "markdown",
   "id": "worst-chinese",
   "metadata": {
    "id": "worst-chinese"
   },
   "source": [
    "# Load Embeddings"
   ]
  },
  {
   "cell_type": "code",
   "execution_count": null,
   "id": "amazing-living",
   "metadata": {
    "id": "amazing-living"
   },
   "outputs": [],
   "source": [
    "words = []\n",
    "vectors = []\n",
    "with open(embedding_path, \"r\", encoding=\"utf-8\") as fp:\n",
    "    for line in fp:\n",
    "        line = line.split()\n",
    "        word = line[0]\n",
    "        vector = np.asarray(line[1:], dtype='float32')\n",
    "        words.append(word)\n",
    "        vectors.append(vector)\n",
    "vectors = np.asarray(vectors)"
   ]
  },
  {
   "cell_type": "markdown",
   "id": "charged-appraisal",
   "metadata": {
    "id": "charged-appraisal"
   },
   "source": [
    "Create an embedding for both \\<PAD> (all 0s) and \\<UNK> (average of all embeddings) tags."
   ]
  },
  {
   "cell_type": "code",
   "execution_count": null,
   "id": "strong-atlanta",
   "metadata": {
    "id": "strong-atlanta"
   },
   "outputs": [],
   "source": [
    "unk_embedding = np.mean(vectors, axis=0).reshape(1, -1)\n",
    "pad_embedding = np.zeros((1, vectors.shape[1]))"
   ]
  },
  {
   "cell_type": "code",
   "execution_count": null,
   "id": "secondary-leather",
   "metadata": {
    "id": "secondary-leather"
   },
   "outputs": [],
   "source": [
    "vectors = torch.as_tensor(np.concatenate((vectors, pad_embedding, unk_embedding)))"
   ]
  },
  {
   "cell_type": "markdown",
   "id": "intelligent-marijuana",
   "metadata": {
    "id": "intelligent-marijuana"
   },
   "source": [
    "# Load Data & Preprocess"
   ]
  },
  {
   "cell_type": "code",
   "execution_count": null,
   "id": "italian-spank",
   "metadata": {
    "id": "italian-spank"
   },
   "outputs": [],
   "source": [
    "def load_data_from_file(file_path: str) -> List[List[str]]:\n",
    "    sentences = []\n",
    "    sentence = []\n",
    "    with open(file_path, \"r\", encoding=\"utf-8\") as fp:\n",
    "        for line in fp:\n",
    "            if \"-DOCSTART-\" in line: # Start of new doc\n",
    "                if len(sentence) > 0:\n",
    "                    sentences.append(sentence)\n",
    "                    sentence = []\n",
    "            elif len(line) == 1: # Empty line\n",
    "                if len(sentence) > 0:\n",
    "                    sentences.append(sentence)\n",
    "                    sentence = []\n",
    "            else:\n",
    "                word = line.split()\n",
    "                sentence.append(word)\n",
    "    if len(sentence) > 0:\n",
    "        sentences.append(sentence)\n",
    "    return sentences"
   ]
  },
  {
   "cell_type": "code",
   "execution_count": null,
   "id": "quality-integer",
   "metadata": {
    "id": "quality-integer"
   },
   "outputs": [],
   "source": [
    "def get_words_and_tags(\n",
    "    data: List[List[str]], tag_index: int, lowercase: bool=True\n",
    ") -> Tuple[List[List[str]], List[List[str]]]:\n",
    "    \"\"\"\n",
    "    tag_index: [(0,POS), (1,Syntactic Chunks), (2, NER)]\n",
    "    \"\"\"\n",
    "    sentences = []\n",
    "    tags = []\n",
    "    for sentence in data:\n",
    "        x = []\n",
    "        y = []\n",
    "        for item in sentence:\n",
    "            if lowercase:\n",
    "                item[0] = item[0].lower()\n",
    "            x.append(item[0])\n",
    "            y.append(item[tag_index+1])\n",
    "        sentences.append(x)\n",
    "        tags.append(y)\n",
    "    return sentences, tags"
   ]
  },
  {
   "cell_type": "markdown",
   "id": "facial-phenomenon",
   "metadata": {
    "id": "facial-phenomenon"
   },
   "source": [
    "Load Data & Split into Words + Tags"
   ]
  },
  {
   "cell_type": "code",
   "execution_count": null,
   "id": "verified-suffering",
   "metadata": {
    "id": "verified-suffering"
   },
   "outputs": [],
   "source": [
    "train = load_data_from_file(train_datapath)\n",
    "val = load_data_from_file(validation_datapath)\n",
    "test = load_data_from_file(test_datapath)"
   ]
  },
  {
   "cell_type": "code",
   "execution_count": null,
   "id": "velvet-morrison",
   "metadata": {
    "colab": {
     "base_uri": "https://localhost:8080/"
    },
    "id": "velvet-morrison",
    "outputId": "e3781c46-7681-43d9-b908-d7af7ffbfe41"
   },
   "outputs": [],
   "source": [
    "len(train), len(val), len(test)"
   ]
  },
  {
   "cell_type": "code",
   "execution_count": null,
   "id": "affiliated-robertson",
   "metadata": {
    "id": "affiliated-robertson"
   },
   "outputs": [],
   "source": [
    "x_train, y_train = get_words_and_tags(train, tag_index=2)\n",
    "x_val, y_val = get_words_and_tags(val, tag_index=2)\n",
    "x_test, y_test = get_words_and_tags(test, tag_index=2)"
   ]
  },
  {
   "cell_type": "markdown",
   "id": "apart-price",
   "metadata": {
    "id": "apart-price"
   },
   "source": [
    "Compute Max Length (for padding; we compute this only from training data)"
   ]
  },
  {
   "cell_type": "code",
   "execution_count": null,
   "id": "significant-asian",
   "metadata": {
    "id": "significant-asian"
   },
   "outputs": [],
   "source": [
    "# We increase the max length here to account for potentially longer samples in val/test\n",
    "max_length = round(max([len(sample) for sample in x_train]) * 1.3)"
   ]
  },
  {
   "cell_type": "code",
   "execution_count": null,
   "id": "behind-leather",
   "metadata": {
    "colab": {
     "base_uri": "https://localhost:8080/"
    },
    "id": "behind-leather",
    "outputId": "521e1a09-cb77-455f-e60d-1d59cac93f2b"
   },
   "outputs": [],
   "source": [
    "max_length"
   ]
  },
  {
   "cell_type": "markdown",
   "id": "surgical-mongolia",
   "metadata": {
    "id": "surgical-mongolia"
   },
   "source": [
    "Set up dictionaries for converting tags to indices, tokens to indices and vice-versa."
   ]
  },
  {
   "cell_type": "code",
   "execution_count": null,
   "id": "compliant-universal",
   "metadata": {
    "id": "compliant-universal"
   },
   "outputs": [],
   "source": [
    "token2index = {word: i for i, word in enumerate(words)}\n",
    "pad_token_index = len(token2index)\n",
    "unk_token_index = len(token2index) + 1\n",
    "token2index[pad_tag] = pad_token_index\n",
    "token2index[unk_tag] = unk_token_index\n",
    "\n",
    "index2token = {i: word for word, i in token2index.items()}"
   ]
  },
  {
   "cell_type": "code",
   "execution_count": null,
   "id": "tutorial-anaheim",
   "metadata": {
    "id": "tutorial-anaheim"
   },
   "outputs": [],
   "source": [
    "tags = set([xx for x in y_train for xx in x])\n",
    "tag2index = {tag: i for i, tag in enumerate(tags)}\n",
    "index2tag = {i: tag for tag, i in tag2index.items()}\n",
    "\n",
    "unk_tag_index = tag2index[\"O\"]\n",
    "pad_tag_index = tag2index[\"O\"]"
   ]
  },
  {
   "cell_type": "markdown",
   "id": "ahead-louisville",
   "metadata": {
    "id": "ahead-louisville"
   },
   "source": [
    "Prepare sentences for the model"
   ]
  },
  {
   "cell_type": "code",
   "execution_count": null,
   "id": "minor-platform",
   "metadata": {
    "id": "minor-platform"
   },
   "outputs": [],
   "source": [
    "def sequence_to_tensor(\n",
    "    sequence: List[str], sequence_to_index: Dict[str, int], vocab: List[str], unk: int, pad_to: int, padding_token: int\n",
    ") -> torch.Tensor:\n",
    "    indices = [sequence_to_index[word] if word in vocab else unk for word in sequence]\n",
    "    padding = [padding_token] * (pad_to - len(indices))\n",
    "    return indices + padding"
   ]
  },
  {
   "cell_type": "code",
   "execution_count": null,
   "id": "olympic-thinking",
   "metadata": {
    "id": "olympic-thinking"
   },
   "outputs": [],
   "source": [
    "def tensor_to_sequence(\n",
    "    tensor: torch.Tensor, index_to_sequence: Dict[int, str]\n",
    ") -> List[str]:\n",
    "    return [index_to_sequence[int(i)] for i in tensor]"
   ]
  },
  {
   "cell_type": "code",
   "execution_count": null,
   "id": "stylish-gazette",
   "metadata": {
    "id": "stylish-gazette",
    "scrolled": true
   },
   "outputs": [],
   "source": [
    "x_train = torch.as_tensor([sequence_to_tensor(sentence, token2index, words, unk_token_index, max_length, pad_token_index) \n",
    "                           for sentence in x_train])\n",
    "\n",
    "y_train = torch.as_tensor([sequence_to_tensor(sentence_tags, tag2index, tags, unk_tag_index, max_length, pad_tag_index) \n",
    "                           for sentence_tags in y_train])"
   ]
  },
  {
   "cell_type": "code",
   "execution_count": null,
   "id": "fresh-patch",
   "metadata": {
    "id": "fresh-patch"
   },
   "outputs": [],
   "source": [
    "x_val = torch.as_tensor([sequence_to_tensor(sentence, token2index, words, unk_token_index, max_length, pad_token_index) \n",
    "                         for sentence in x_val])\n",
    "\n",
    "y_val = torch.as_tensor([sequence_to_tensor(tags, tag2index, tags, unk_tag_index, max_length, pad_tag_index) \n",
    "                         for tags in y_val])"
   ]
  },
  {
   "cell_type": "code",
   "execution_count": null,
   "id": "indoor-plymouth",
   "metadata": {
    "id": "indoor-plymouth"
   },
   "outputs": [],
   "source": [
    "x_test = torch.as_tensor([sequence_to_tensor(sentence, token2index, words, unk_token_index, max_length, pad_token_index) \n",
    "                          for sentence in x_test])\n",
    "\n",
    "y_test = torch.as_tensor([sequence_to_tensor(tags, tag2index, tags, unk_tag_index, max_length, pad_tag_index) \n",
    "                          for tags in y_test])"
   ]
  },
  {
   "cell_type": "code",
   "execution_count": null,
   "id": "cultural-columbus",
   "metadata": {
    "id": "cultural-columbus"
   },
   "outputs": [],
   "source": [
    "train_dataset = torch.utils.data.TensorDataset(x_train, y_train)\n",
    "val_dataset = torch.utils.data.TensorDataset(x_val, y_val)\n",
    "test_dataset = torch.utils.data.TensorDataset(x_test, y_test)"
   ]
  },
  {
   "cell_type": "code",
   "execution_count": null,
   "id": "starting-brick",
   "metadata": {
    "id": "starting-brick"
   },
   "outputs": [],
   "source": [
    "train_dataloader = torch.utils.data.DataLoader(\n",
    "    train_dataset, batch_size=batch_size, shuffle=True, num_workers=2, pin_memory=gpu, \n",
    ")\n",
    "val_dataloader = torch.utils.data.DataLoader(\n",
    "    val_dataset, batch_size=batch_size, shuffle=True, num_workers=2, pin_memory=gpu, \n",
    ")\n",
    "test_dataloader = torch.utils.data.DataLoader(\n",
    "    test_dataset, batch_size=batch_size, shuffle=True, num_workers=2, pin_memory=gpu, \n",
    ")"
   ]
  },
  {
   "cell_type": "markdown",
   "id": "micro-interest",
   "metadata": {
    "id": "micro-interest"
   },
   "source": [
    "# Model Time"
   ]
  },
  {
   "cell_type": "code",
   "execution_count": null,
   "id": "illegal-denver",
   "metadata": {
    "id": "illegal-denver"
   },
   "outputs": [],
   "source": [
    "# https://pytorch.org/tutorials/beginner/nlp/sequence_models_tutorial.html\n",
    "class BiLSTM(nn.Module):\n",
    "    def __init__(self, embeddings, embedding_dim, hidden_dim, tagset_size, freeze_embeddings):\n",
    "        super(BiLSTM, self).__init__()\n",
    "        self.word_embeddings = nn.Embedding.from_pretrained(embeddings, freeze=freeze_embeddings)\n",
    "        self.lstm = nn.LSTM(embedding_dim, hidden_dim, bidirectional=True, batch_first=True)\n",
    "        self.tag_classifier = nn.Linear(hidden_dim * 2, tagset_size) #Since BiLSTM\n",
    "\n",
    "    def forward(self, sentence):\n",
    "        # (batch_size, seq_len) -> (batch_size, seq_len, embedding_dim)\n",
    "        embedded = self.word_embeddings(sentence)\n",
    "        # (batch_size, seq_len, embedding_dim) -> (batch_size, seq_len, hidden_dim) \n",
    "        lstm_out, _ = self.lstm(embedded)\n",
    "        # (batch_size, seq_len, hidden_dim) -> (batch_size, seq_len, tagset_size)\n",
    "        tag_space = self.tag_classifier(lstm_out)\n",
    "        # We use the CrossEntropyLoss so we aren't adding a softmax layer here\n",
    "        # Because in PyTorch CrossEntropyLoss combines a LogSoftmax with NLLLoss\n",
    "        # So we output raw logits\n",
    "        # Since we don't care about the confidences, we don't need a softmax during inference\n",
    "        # Since the highest value in a softmax will always be the highest value pre-softmax\n",
    "        return tag_space"
   ]
  },
  {
   "cell_type": "code",
   "execution_count": null,
   "id": "enhanced-environment",
   "metadata": {
    "id": "enhanced-environment"
   },
   "outputs": [],
   "source": [
    "model = BiLSTM(vectors, embedding_dim, nn_hidden_size, len(tag2index), freeze_embeddings)\n",
    "model.double() # Since our embeddings are 32-dimensional\n",
    "model.to(device)\n",
    "loss_function = nn.CrossEntropyLoss() \n",
    "optimizer = torch.optim.Adam(model.parameters(), lr=learning_rate)"
   ]
  },
  {
   "cell_type": "markdown",
   "id": "defined-ground",
   "metadata": {
    "id": "defined-ground"
   },
   "source": [
    "# Training"
   ]
  },
  {
   "cell_type": "code",
   "execution_count": null,
   "id": "matched-alarm",
   "metadata": {
    "colab": {
     "base_uri": "https://localhost:8080/"
    },
    "id": "matched-alarm",
    "outputId": "541cd067-23c1-469a-c5d0-b97018b08257"
   },
   "outputs": [],
   "source": [
    "for epoch in range(epochs):\n",
    "    train_loss = 0\n",
    "    val_loss = 0\n",
    "    \n",
    "    # Training Loop\n",
    "    for iteration, batch in enumerate(tqdm(train_dataloader)):\n",
    "        # Move data to device\n",
    "        sentences, tags = batch\n",
    "        sentences = sentences.to(device)\n",
    "        tags = tags.to(device)\n",
    "        \n",
    "        # Zero gradients\n",
    "        optimizer.zero_grad()\n",
    "        \n",
    "        # Forward pass\n",
    "        predictions = model(sentences)\n",
    "        \n",
    "        # Calculate loss\n",
    "        batch_loss = loss_function(predictions.transpose(1, 2), tags)\n",
    "        \n",
    "        # Backward pass\n",
    "        batch_loss.backward()\n",
    "        optimizer.step()\n",
    "        \n",
    "        # Update train loss\n",
    "        train_loss += batch_loss.item()\n",
    "    \n",
    "    # Validation Loop\n",
    "    with torch.no_grad():\n",
    "        for iteration, batch in enumerate(tqdm(val_dataloader)):\n",
    "            # Move data to device\n",
    "            sentences, tags = batch\n",
    "            sentences = sentences.to(device)\n",
    "            tags = tags.to(device)\n",
    "\n",
    "            # Forward pass\n",
    "            predictions = model(sentences)\n",
    "\n",
    "            # Calculate loss\n",
    "            batch_loss = loss_function(predictions.transpose(1, 2), tags)\n",
    "\n",
    "            # Update train loss\n",
    "            val_loss += batch_loss.item()\n",
    "    \n",
    "    # Compute the average losses for this epoch\n",
    "    train_loss = train_loss / len(train_dataloader)\n",
    "    val_loss = val_loss / len(val_dataloader)\n",
    "    \n",
    "    \n",
    "    # Print Metrics\n",
    "    print(\n",
    "        f\"Epoch: {epoch+1}/{epochs}, Train Loss = {train_loss}, \\\n",
    "        Validation Loss = {val_loss}\"\n",
    "    )"
   ]
  },
  {
   "cell_type": "markdown",
   "id": "human-annual",
   "metadata": {
    "id": "human-annual"
   },
   "source": [
    "# Evaluation"
   ]
  },
  {
   "cell_type": "code",
   "execution_count": null,
   "id": "early-repeat",
   "metadata": {
    "colab": {
     "base_uri": "https://localhost:8080/"
    },
    "id": "early-repeat",
    "outputId": "4f0b8320-2dea-4e6a-db9b-d27788258ac4"
   },
   "outputs": [],
   "source": [
    "model.eval()"
   ]
  },
  {
   "cell_type": "code",
   "execution_count": null,
   "id": "choice-netscape",
   "metadata": {
    "colab": {
     "base_uri": "https://localhost:8080/"
    },
    "id": "choice-netscape",
    "outputId": "f7e5e7e1-a9e6-462b-9e5e-9a1e93eeb68f"
   },
   "outputs": [],
   "source": [
    "# Test Loop\n",
    "with torch.no_grad():\n",
    "    y_true = []\n",
    "    y_pred = []\n",
    "    for iteration, batch in enumerate(tqdm(test_dataloader)):\n",
    "        # Move data to device\n",
    "        sentences, tags = batch\n",
    "        sentences = sentences.to(device)\n",
    "\n",
    "        # Forward pass\n",
    "        predictions = model(sentences).detach().cpu().numpy().argmax(axis=2)\n",
    "        \n",
    "        y_true.extend(tags.detach().cpu().numpy())\n",
    "        y_pred.extend(predictions)\n",
    "y_true = [tensor_to_sequence(x, index2tag) for x in np.asarray(y_true)]\n",
    "y_pred = [tensor_to_sequence(x, index2tag) for x in np.asarray(y_pred)]"
   ]
  },
  {
   "cell_type": "code",
   "execution_count": null,
   "id": "divided-columbia",
   "metadata": {
    "colab": {
     "base_uri": "https://localhost:8080/"
    },
    "id": "divided-columbia",
    "outputId": "b6407432-f0a8-4e72-9c7d-7bdb394d6956"
   },
   "outputs": [],
   "source": [
    "print(metrics.classification_report(y_true, y_pred, digits=2))"
   ]
  },
  {
   "cell_type": "markdown",
   "id": "quality-brazilian",
   "metadata": {
    "id": "quality-brazilian"
   },
   "source": [
    "# Save"
   ]
  },
  {
   "cell_type": "code",
   "execution_count": null,
   "id": "drawn-payday",
   "metadata": {
    "id": "drawn-payday"
   },
   "outputs": [],
   "source": [
    "torch.save(model.state_dict(), model_output_path)"
   ]
  },
  {
   "cell_type": "code",
   "execution_count": null,
   "id": "oxI5svCjelpw",
   "metadata": {
    "id": "oxI5svCjelpw"
   },
   "outputs": [],
   "source": []
  }
 ],
 "metadata": {
  "colab": {
   "collapsed_sections": [],
   "name": "NER.ipynb",
   "provenance": []
  },
  "kernelspec": {
   "display_name": "Python 3",
   "language": "python",
   "name": "python3"
  },
  "language_info": {
   "codemirror_mode": {
    "name": "ipython",
    "version": 3
   },
   "file_extension": ".py",
   "mimetype": "text/x-python",
   "name": "python",
   "nbconvert_exporter": "python",
   "pygments_lexer": "ipython3",
   "version": "3.8.7"
  }
 },
 "nbformat": 4,
 "nbformat_minor": 5
}
