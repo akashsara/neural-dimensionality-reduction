{
 "cells": [
  {
   "cell_type": "code",
   "execution_count": 1,
   "id": "piano-artist",
   "metadata": {},
   "outputs": [],
   "source": [
    "import torch\n",
    "from torch import nn\n",
    "import numpy as np"
   ]
  },
  {
   "cell_type": "code",
   "execution_count": 2,
   "id": "advisory-designation",
   "metadata": {},
   "outputs": [],
   "source": [
    "import typing\n",
    "from typing import List, Tuple, Dict"
   ]
  },
  {
   "cell_type": "markdown",
   "id": "alert-mills",
   "metadata": {},
   "source": [
    "# Config"
   ]
  },
  {
   "cell_type": "code",
   "execution_count": 44,
   "id": "molecular-foundation",
   "metadata": {},
   "outputs": [],
   "source": [
    "embedding_path = \"data/embeddings/base/glove.6B.300d.txt\"\n",
    "embedding_dim = 300\n",
    "nn_hidden_size = 50\n",
    "\n",
    "epochs = 5\n",
    "batch_size = 32\n",
    "learning_rate = 1e-3\n",
    "\n",
    "train_datapath = \"data/datasets/conll_2003/train.txt\"\n",
    "validation_datapath = \"data/datasets/conll_2003/valid.txt\"\n",
    "test_datapath = \"data/datasets/conll_2003/test.txt\"\n",
    "\n",
    "pad_tag = \"<PAD>\"\n",
    "unk_tag = \"<UNK>\""
   ]
  },
  {
   "cell_type": "code",
   "execution_count": 40,
   "id": "institutional-alabama",
   "metadata": {},
   "outputs": [],
   "source": [
    "gpu = torch.cuda.is_available()\n",
    "device = torch.device(\"cuda\" if gpu else \"cpu\")"
   ]
  },
  {
   "cell_type": "markdown",
   "id": "worst-chinese",
   "metadata": {},
   "source": [
    "# Load Embeddings"
   ]
  },
  {
   "cell_type": "code",
   "execution_count": 4,
   "id": "amazing-living",
   "metadata": {},
   "outputs": [],
   "source": [
    "words = []\n",
    "vectors = []\n",
    "with open(embedding_path, \"r\", encoding=\"utf-8\") as fp:\n",
    "    for line in fp:\n",
    "        line = line.split()\n",
    "        word = line[0]\n",
    "        vector = np.asarray(line[1:], dtype='float32')\n",
    "        words.append(word)\n",
    "        vectors.append(vector)\n",
    "vectors = np.asarray(vectors)"
   ]
  },
  {
   "cell_type": "markdown",
   "id": "intelligent-marijuana",
   "metadata": {},
   "source": [
    "# Load Data & Preprocess"
   ]
  },
  {
   "cell_type": "code",
   "execution_count": 5,
   "id": "italian-spank",
   "metadata": {},
   "outputs": [],
   "source": [
    "def load_data_from_file(file_path: str) -> List[List[str]]:\n",
    "    sentences = []\n",
    "    sentence = []\n",
    "    with open(file_path, \"r\", encoding=\"utf-8\") as fp:\n",
    "        for line in fp:\n",
    "            if \"-DOCSTART-\" in line: # Start of new doc\n",
    "                if len(sentence) > 0:\n",
    "                    sentences.append(sentence)\n",
    "                    sentence = []\n",
    "            elif len(line) == 1: # Empty line\n",
    "                if len(sentence) > 0:\n",
    "                    sentences.append(sentence)\n",
    "                    sentence = []\n",
    "            else:\n",
    "                word = line.split()\n",
    "                sentence.append(word)\n",
    "    if len(sentence) > 0:\n",
    "        sentences.append(sentence)\n",
    "    return sentences"
   ]
  },
  {
   "cell_type": "code",
   "execution_count": 6,
   "id": "quality-integer",
   "metadata": {},
   "outputs": [],
   "source": [
    "def get_words_and_tags(\n",
    "    data: List[List[str]], tag_index: int, lowercase: bool=True\n",
    ") -> Tuple[List[List[str]], List[List[str]]]:\n",
    "    \"\"\"\n",
    "    tag_index: [(0,POS), (1,Syntactic Chunks), (2, NER)]\n",
    "    \"\"\"\n",
    "    sentences = []\n",
    "    tags = []\n",
    "    for sentence in data:\n",
    "        x = []\n",
    "        y = []\n",
    "        for item in sentence:\n",
    "            if lowercase:\n",
    "                item[0] = item[0].lower()\n",
    "            x.append(item[0])\n",
    "            y.append(item[tag_index+1])\n",
    "        sentences.append(x)\n",
    "        tags.append(y)\n",
    "    return sentences, tags"
   ]
  },
  {
   "cell_type": "markdown",
   "id": "facial-phenomenon",
   "metadata": {},
   "source": [
    "Load Data & Split into Words + Tags"
   ]
  },
  {
   "cell_type": "code",
   "execution_count": 7,
   "id": "verified-suffering",
   "metadata": {},
   "outputs": [],
   "source": [
    "train = load_data_from_file(train_datapath)\n",
    "val = load_data_from_file(validation_datapath)\n",
    "test = load_data_from_file(test_datapath)"
   ]
  },
  {
   "cell_type": "code",
   "execution_count": 8,
   "id": "velvet-morrison",
   "metadata": {},
   "outputs": [
    {
     "data": {
      "text/plain": [
       "(14041, 3250, 3453)"
      ]
     },
     "execution_count": 8,
     "metadata": {},
     "output_type": "execute_result"
    }
   ],
   "source": [
    "len(train), len(val), len(test)"
   ]
  },
  {
   "cell_type": "code",
   "execution_count": 27,
   "id": "affiliated-robertson",
   "metadata": {},
   "outputs": [],
   "source": [
    "x_train, y_train = get_words_and_tags(train, tag_index=2)\n",
    "x_val, y_val = get_words_and_tags(val, tag_index=2)\n",
    "x_test, y_test = get_words_and_tags(test, tag_index=2)"
   ]
  },
  {
   "cell_type": "markdown",
   "id": "apart-price",
   "metadata": {},
   "source": [
    "Compute Max Length (for padding; we compute this only from training data)"
   ]
  },
  {
   "cell_type": "code",
   "execution_count": 10,
   "id": "significant-asian",
   "metadata": {},
   "outputs": [],
   "source": [
    "# We increase the max length here to account for potentially longer samples in val/test\n",
    "max_length = round(max([len(sample) for sample in x_train]) * 1.3)"
   ]
  },
  {
   "cell_type": "code",
   "execution_count": 11,
   "id": "behind-leather",
   "metadata": {},
   "outputs": [
    {
     "data": {
      "text/plain": [
       "147"
      ]
     },
     "execution_count": 11,
     "metadata": {},
     "output_type": "execute_result"
    }
   ],
   "source": [
    "max_length"
   ]
  },
  {
   "cell_type": "markdown",
   "id": "charged-appraisal",
   "metadata": {},
   "source": [
    "Create an embedding for both \\<PAD> (all 0s) and \\<UNK> (average of all embeddings) tags."
   ]
  },
  {
   "cell_type": "code",
   "execution_count": 12,
   "id": "strong-atlanta",
   "metadata": {},
   "outputs": [],
   "source": [
    "unk_embedding = np.mean(vectors, axis=0).reshape(1, -1)\n",
    "pad_embedding = np.zeros((1, vectors.shape[1]))"
   ]
  },
  {
   "cell_type": "code",
   "execution_count": 13,
   "id": "secondary-leather",
   "metadata": {},
   "outputs": [],
   "source": [
    "vectors = torch.as_tensor(np.concatenate((vectors, pad_embedding, unk_embedding)))"
   ]
  },
  {
   "cell_type": "markdown",
   "id": "surgical-mongolia",
   "metadata": {},
   "source": [
    "Set up dictionaries for converting tags to indices, tokens to indices and vice-versa."
   ]
  },
  {
   "cell_type": "code",
   "execution_count": 14,
   "id": "compliant-universal",
   "metadata": {},
   "outputs": [],
   "source": [
    "token2index = {word: i for i, word in enumerate(words)}\n",
    "pad_token_index = len(token2index) + 1\n",
    "unk_token_index = len(token2index) + 2\n",
    "token2index[pad_tag] = pad_token_index\n",
    "token2index[unk_tag] = unk_token_index\n",
    "\n",
    "index2token = {i: word for word, i in token2index.items()}"
   ]
  },
  {
   "cell_type": "code",
   "execution_count": 15,
   "id": "tutorial-anaheim",
   "metadata": {},
   "outputs": [],
   "source": [
    "tags = set([xx for x in y_train for xx in x])\n",
    "tag2index = {tag: i for i, tag in enumerate(tags)}\n",
    "index2tag = {i: tag for tag, i in tag2index.items()}\n",
    "\n",
    "unk_tag_index = tag2index[\"O\"]\n",
    "pad_tag_index = tag2index[\"O\"]"
   ]
  },
  {
   "cell_type": "markdown",
   "id": "ahead-louisville",
   "metadata": {},
   "source": [
    "Prepare sentences for the model"
   ]
  },
  {
   "cell_type": "code",
   "execution_count": 24,
   "id": "minor-platform",
   "metadata": {},
   "outputs": [],
   "source": [
    "def sequence_to_tensor(\n",
    "    sequence: List[str], sequence_to_index: Dict[str, int], vocab: List[str], unk: int, pad_to: int, padding_token: int\n",
    ") -> torch.Tensor:\n",
    "    indices = [sequence_to_index[word] if word in vocab else unk for word in sequence]\n",
    "    padding = [padding_token] * (pad_to - len(indices))\n",
    "    return indices + padding"
   ]
  },
  {
   "cell_type": "code",
   "execution_count": 25,
   "id": "olympic-thinking",
   "metadata": {},
   "outputs": [],
   "source": [
    "def tensor_to_sequence(\n",
    "    tensor: torch.Tensor, index_to_sequence: Dict[int, str]\n",
    ") -> List[str]:\n",
    "    return [index_to_sequence[int(i)] for i in tensor]"
   ]
  },
  {
   "cell_type": "code",
   "execution_count": 28,
   "id": "stylish-gazette",
   "metadata": {
    "scrolled": true
   },
   "outputs": [],
   "source": [
    "x_train = torch.as_tensor([sequence_to_tensor(sentence, token2index, words, unk_token_index, max_length, pad_token_index) \n",
    "                           for sentence in x_train])\n",
    "\n",
    "y_train = torch.as_tensor([sequence_to_tensor(sentence_tags, tag2index, tags, unk_tag_index, max_length, pad_tag_index) \n",
    "                           for sentence_tags in y_train])"
   ]
  },
  {
   "cell_type": "code",
   "execution_count": 32,
   "id": "fresh-patch",
   "metadata": {},
   "outputs": [],
   "source": [
    "x_val = torch.as_tensor([sequence_to_tensor(sentence, token2index, words, unk_token_index, max_length, pad_token_index) \n",
    "                         for sentence in x_val])\n",
    "\n",
    "y_val = torch.as_tensor([sequence_to_tensor(tags, tag2index, tags, unk_tag_index, max_length, pad_tag_index) \n",
    "                         for tags in y_val])"
   ]
  },
  {
   "cell_type": "code",
   "execution_count": 33,
   "id": "indoor-plymouth",
   "metadata": {},
   "outputs": [],
   "source": [
    "x_test = torch.as_tensor([sequence_to_tensor(sentence, token2index, words, unk_token_index, max_length, pad_token_index) \n",
    "                          for sentence in x_test])\n",
    "\n",
    "y_test = torch.as_tensor([sequence_to_tensor(tags, tag2index, tags, unk_tag_index, max_length, pad_tag_index) \n",
    "                          for tags in y_test])"
   ]
  },
  {
   "cell_type": "code",
   "execution_count": 35,
   "id": "cultural-columbus",
   "metadata": {},
   "outputs": [],
   "source": [
    "train_dataset = torch.utils.data.TensorDataset(x_train, y_train)\n",
    "val_dataset = torch.utils.data.TensorDataset(x_val, y_val)\n",
    "test_dataset = torch.utils.data.TensorDataset(x_test, y_test)"
   ]
  },
  {
   "cell_type": "code",
   "execution_count": 42,
   "id": "starting-brick",
   "metadata": {},
   "outputs": [],
   "source": [
    "train_dataloader = torch.utils.data.DataLoader(\n",
    "    train_dataset, batch_size=batch_size, shuffle=True, num_workers=4, pin_memory=gpu, \n",
    ")\n",
    "val_dataloader = torch.utils.data.DataLoader(\n",
    "    val_dataset, batch_size=batch_size, shuffle=True, num_workers=4, pin_memory=gpu, \n",
    ")\n",
    "test_dataloader = torch.utils.data.DataLoader(\n",
    "    test_dataset, batch_size=batch_size, shuffle=True, num_workers=4, pin_memory=gpu, \n",
    ")"
   ]
  },
  {
   "cell_type": "markdown",
   "id": "micro-interest",
   "metadata": {},
   "source": [
    "# Model Time"
   ]
  },
  {
   "cell_type": "code",
   "execution_count": 43,
   "id": "illegal-denver",
   "metadata": {},
   "outputs": [],
   "source": [
    "# https://pytorch.org/tutorials/beginner/nlp/sequence_models_tutorial.html\n",
    "class BiLSTM(nn.Module):\n",
    "    def __init__(self, embeddings, embedding_dim, hidden_dim, tagset_size):\n",
    "        super(BiLSTM, self).__init__()\n",
    "        self.hidden_dim = hidden_dim\n",
    "\n",
    "        self.word_embeddings = nn.Embedding.from_pretrained(embeddings)\n",
    "        self.lstm = nn.LSTM(embedding_dim, hidden_dim, bidirectional=True)\n",
    "        self.tag_classifier = nn.Linear(hidden_dim, tagset_size)\n",
    "\n",
    "    def forward(self, sentence):\n",
    "        embedded = self.word_embeddings(sentence)\n",
    "        lstm_out, _ = self.lstm(embedded.view(len(sentence), 1, -1)) \n",
    "        tag_space = self.tag_classifier(lstm_out.view(len(sentence), -1))\n",
    "        return tag_space"
   ]
  },
  {
   "cell_type": "code",
   "execution_count": 53,
   "id": "enhanced-environment",
   "metadata": {},
   "outputs": [],
   "source": [
    "model = BiLSTM(vectors, embedding_dim, nn_hidden_size, len(tag2index))\n",
    "loss_function = nn.CrossEntropyLoss()\n",
    "optimizer = torch.optim.Adam(model.parameters(), lr=learning_rate)"
   ]
  },
  {
   "cell_type": "markdown",
   "id": "defined-ground",
   "metadata": {},
   "source": [
    "# Training"
   ]
  },
  {
   "cell_type": "code",
   "execution_count": null,
   "id": "matched-alarm",
   "metadata": {},
   "outputs": [],
   "source": []
  },
  {
   "cell_type": "code",
   "execution_count": null,
   "id": "constant-seeking",
   "metadata": {},
   "outputs": [],
   "source": []
  },
  {
   "cell_type": "code",
   "execution_count": null,
   "id": "african-display",
   "metadata": {},
   "outputs": [],
   "source": []
  },
  {
   "cell_type": "markdown",
   "id": "human-annual",
   "metadata": {},
   "source": [
    "# Evaluation"
   ]
  },
  {
   "cell_type": "code",
   "execution_count": null,
   "id": "early-repeat",
   "metadata": {},
   "outputs": [],
   "source": []
  },
  {
   "cell_type": "code",
   "execution_count": null,
   "id": "choice-netscape",
   "metadata": {},
   "outputs": [],
   "source": []
  },
  {
   "cell_type": "code",
   "execution_count": null,
   "id": "unlimited-bronze",
   "metadata": {},
   "outputs": [],
   "source": []
  },
  {
   "cell_type": "markdown",
   "id": "quality-brazilian",
   "metadata": {},
   "source": [
    "# Save"
   ]
  },
  {
   "cell_type": "code",
   "execution_count": null,
   "id": "drawn-payday",
   "metadata": {},
   "outputs": [],
   "source": []
  },
  {
   "cell_type": "code",
   "execution_count": null,
   "id": "curious-doctrine",
   "metadata": {},
   "outputs": [],
   "source": []
  },
  {
   "cell_type": "code",
   "execution_count": null,
   "id": "presidential-stuart",
   "metadata": {},
   "outputs": [],
   "source": []
  }
 ],
 "metadata": {
  "kernelspec": {
   "display_name": "Python 3",
   "language": "python",
   "name": "python3"
  },
  "language_info": {
   "codemirror_mode": {
    "name": "ipython",
    "version": 3
   },
   "file_extension": ".py",
   "mimetype": "text/x-python",
   "name": "python",
   "nbconvert_exporter": "python",
   "pygments_lexer": "ipython3",
   "version": "3.8.7"
  }
 },
 "nbformat": 4,
 "nbformat_minor": 5
}
