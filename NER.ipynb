{
 "cells": [
  {
   "cell_type": "code",
   "execution_count": 1,
   "id": "piano-artist",
   "metadata": {},
   "outputs": [],
   "source": [
    "import torch\n",
    "from torch import nn\n",
    "import numpy as np"
   ]
  },
  {
   "cell_type": "code",
   "execution_count": 2,
   "id": "advisory-designation",
   "metadata": {},
   "outputs": [],
   "source": [
    "import typing\n",
    "from typing import List, Tuple, Dict\n",
    "from tqdm import tqdm\n",
    "from seqeval import metrics"
   ]
  },
  {
   "cell_type": "markdown",
   "id": "alert-mills",
   "metadata": {},
   "source": [
    "# Config"
   ]
  },
  {
   "cell_type": "code",
   "execution_count": 3,
   "id": "molecular-foundation",
   "metadata": {},
   "outputs": [],
   "source": [
    "experiment_name = \"glove_clipped\"\n",
    "embedding_path = \"data/embeddings/base/clipped.glove.6B.300d.txt\"\n",
    "embedding_dim = 300\n",
    "nn_hidden_size = 50\n",
    "model_output_path = f\"models/classifier_{experiment_name}.pt\"\n",
    "\n",
    "epochs = 5\n",
    "batch_size = 32\n",
    "learning_rate = 1e-3\n",
    "\n",
    "train_datapath = \"data/datasets/conll_2003/train.txt\"\n",
    "validation_datapath = \"data/datasets/conll_2003/valid.txt\"\n",
    "test_datapath = \"data/datasets/conll_2003/test.txt\"\n",
    "\n",
    "pad_tag = \"<PAD>\"\n",
    "unk_tag = \"<UNK>\""
   ]
  },
  {
   "cell_type": "code",
   "execution_count": 4,
   "id": "institutional-alabama",
   "metadata": {},
   "outputs": [],
   "source": [
    "gpu = torch.cuda.is_available()\n",
    "device = torch.device(\"cuda\" if gpu else \"cpu\")"
   ]
  },
  {
   "cell_type": "markdown",
   "id": "worst-chinese",
   "metadata": {},
   "source": [
    "# Load Embeddings"
   ]
  },
  {
   "cell_type": "code",
   "execution_count": 5,
   "id": "amazing-living",
   "metadata": {},
   "outputs": [],
   "source": [
    "words = []\n",
    "vectors = []\n",
    "with open(embedding_path, \"r\", encoding=\"utf-8\") as fp:\n",
    "    for line in fp:\n",
    "        line = line.split()\n",
    "        word = line[0]\n",
    "        vector = np.asarray(line[1:], dtype='float32')\n",
    "        words.append(word)\n",
    "        vectors.append(vector)\n",
    "vectors = np.asarray(vectors)"
   ]
  },
  {
   "cell_type": "markdown",
   "id": "charged-appraisal",
   "metadata": {},
   "source": [
    "Create an embedding for both \\<PAD> (all 0s) and \\<UNK> (average of all embeddings) tags."
   ]
  },
  {
   "cell_type": "code",
   "execution_count": 6,
   "id": "strong-atlanta",
   "metadata": {},
   "outputs": [],
   "source": [
    "unk_embedding = np.mean(vectors, axis=0).reshape(1, -1)\n",
    "pad_embedding = np.zeros((1, vectors.shape[1]))"
   ]
  },
  {
   "cell_type": "code",
   "execution_count": 7,
   "id": "secondary-leather",
   "metadata": {},
   "outputs": [],
   "source": [
    "vectors = torch.as_tensor(np.concatenate((vectors, pad_embedding, unk_embedding)))"
   ]
  },
  {
   "cell_type": "markdown",
   "id": "intelligent-marijuana",
   "metadata": {},
   "source": [
    "# Load Data & Preprocess"
   ]
  },
  {
   "cell_type": "code",
   "execution_count": 8,
   "id": "italian-spank",
   "metadata": {},
   "outputs": [],
   "source": [
    "def load_data_from_file(file_path: str) -> List[List[str]]:\n",
    "    sentences = []\n",
    "    sentence = []\n",
    "    with open(file_path, \"r\", encoding=\"utf-8\") as fp:\n",
    "        for line in fp:\n",
    "            if \"-DOCSTART-\" in line: # Start of new doc\n",
    "                if len(sentence) > 0:\n",
    "                    sentences.append(sentence)\n",
    "                    sentence = []\n",
    "            elif len(line) == 1: # Empty line\n",
    "                if len(sentence) > 0:\n",
    "                    sentences.append(sentence)\n",
    "                    sentence = []\n",
    "            else:\n",
    "                word = line.split()\n",
    "                sentence.append(word)\n",
    "    if len(sentence) > 0:\n",
    "        sentences.append(sentence)\n",
    "    return sentences"
   ]
  },
  {
   "cell_type": "code",
   "execution_count": 9,
   "id": "quality-integer",
   "metadata": {},
   "outputs": [],
   "source": [
    "def get_words_and_tags(\n",
    "    data: List[List[str]], tag_index: int, lowercase: bool=True\n",
    ") -> Tuple[List[List[str]], List[List[str]]]:\n",
    "    \"\"\"\n",
    "    tag_index: [(0,POS), (1,Syntactic Chunks), (2, NER)]\n",
    "    \"\"\"\n",
    "    sentences = []\n",
    "    tags = []\n",
    "    for sentence in data:\n",
    "        x = []\n",
    "        y = []\n",
    "        for item in sentence:\n",
    "            if lowercase:\n",
    "                item[0] = item[0].lower()\n",
    "            x.append(item[0])\n",
    "            y.append(item[tag_index+1])\n",
    "        sentences.append(x)\n",
    "        tags.append(y)\n",
    "    return sentences, tags"
   ]
  },
  {
   "cell_type": "markdown",
   "id": "facial-phenomenon",
   "metadata": {},
   "source": [
    "Load Data & Split into Words + Tags"
   ]
  },
  {
   "cell_type": "code",
   "execution_count": 10,
   "id": "verified-suffering",
   "metadata": {},
   "outputs": [],
   "source": [
    "train = load_data_from_file(train_datapath)\n",
    "val = load_data_from_file(validation_datapath)\n",
    "test = load_data_from_file(test_datapath)"
   ]
  },
  {
   "cell_type": "code",
   "execution_count": 11,
   "id": "velvet-morrison",
   "metadata": {},
   "outputs": [
    {
     "data": {
      "text/plain": [
       "(14041, 3250, 3453)"
      ]
     },
     "execution_count": 11,
     "metadata": {},
     "output_type": "execute_result"
    }
   ],
   "source": [
    "len(train), len(val), len(test)"
   ]
  },
  {
   "cell_type": "code",
   "execution_count": 12,
   "id": "affiliated-robertson",
   "metadata": {},
   "outputs": [],
   "source": [
    "x_train, y_train = get_words_and_tags(train, tag_index=2)\n",
    "x_val, y_val = get_words_and_tags(val, tag_index=2)\n",
    "x_test, y_test = get_words_and_tags(test, tag_index=2)"
   ]
  },
  {
   "cell_type": "markdown",
   "id": "apart-price",
   "metadata": {},
   "source": [
    "Compute Max Length (for padding; we compute this only from training data)"
   ]
  },
  {
   "cell_type": "code",
   "execution_count": 13,
   "id": "significant-asian",
   "metadata": {},
   "outputs": [],
   "source": [
    "# We increase the max length here to account for potentially longer samples in val/test\n",
    "max_length = round(max([len(sample) for sample in x_train]) * 1.3)"
   ]
  },
  {
   "cell_type": "code",
   "execution_count": 14,
   "id": "behind-leather",
   "metadata": {},
   "outputs": [
    {
     "data": {
      "text/plain": [
       "147"
      ]
     },
     "execution_count": 14,
     "metadata": {},
     "output_type": "execute_result"
    }
   ],
   "source": [
    "max_length"
   ]
  },
  {
   "cell_type": "markdown",
   "id": "surgical-mongolia",
   "metadata": {},
   "source": [
    "Set up dictionaries for converting tags to indices, tokens to indices and vice-versa."
   ]
  },
  {
   "cell_type": "code",
   "execution_count": 15,
   "id": "compliant-universal",
   "metadata": {},
   "outputs": [],
   "source": [
    "token2index = {word: i for i, word in enumerate(words)}\n",
    "pad_token_index = len(token2index)\n",
    "unk_token_index = len(token2index) + 1\n",
    "token2index[pad_tag] = pad_token_index\n",
    "token2index[unk_tag] = unk_token_index\n",
    "\n",
    "index2token = {i: word for word, i in token2index.items()}"
   ]
  },
  {
   "cell_type": "code",
   "execution_count": 16,
   "id": "tutorial-anaheim",
   "metadata": {},
   "outputs": [],
   "source": [
    "tags = set([xx for x in y_train for xx in x])\n",
    "tag2index = {tag: i for i, tag in enumerate(tags)}\n",
    "index2tag = {i: tag for tag, i in tag2index.items()}\n",
    "\n",
    "unk_tag_index = tag2index[\"O\"]\n",
    "pad_tag_index = tag2index[\"O\"]"
   ]
  },
  {
   "cell_type": "markdown",
   "id": "ahead-louisville",
   "metadata": {},
   "source": [
    "Prepare sentences for the model"
   ]
  },
  {
   "cell_type": "code",
   "execution_count": 17,
   "id": "minor-platform",
   "metadata": {},
   "outputs": [],
   "source": [
    "def sequence_to_tensor(\n",
    "    sequence: List[str], sequence_to_index: Dict[str, int], vocab: List[str], unk: int, pad_to: int, padding_token: int\n",
    ") -> torch.Tensor:\n",
    "    indices = [sequence_to_index[word] if word in vocab else unk for word in sequence]\n",
    "    padding = [padding_token] * (pad_to - len(indices))\n",
    "    return indices + padding"
   ]
  },
  {
   "cell_type": "code",
   "execution_count": 18,
   "id": "olympic-thinking",
   "metadata": {},
   "outputs": [],
   "source": [
    "def tensor_to_sequence(\n",
    "    tensor: torch.Tensor, index_to_sequence: Dict[int, str]\n",
    ") -> List[str]:\n",
    "    return [index_to_sequence[int(i)] for i in tensor]"
   ]
  },
  {
   "cell_type": "code",
   "execution_count": 19,
   "id": "stylish-gazette",
   "metadata": {
    "scrolled": true
   },
   "outputs": [],
   "source": [
    "x_train = torch.as_tensor([sequence_to_tensor(sentence, token2index, words, unk_token_index, max_length, pad_token_index) \n",
    "                           for sentence in x_train])\n",
    "\n",
    "y_train = torch.as_tensor([sequence_to_tensor(sentence_tags, tag2index, tags, unk_tag_index, max_length, pad_tag_index) \n",
    "                           for sentence_tags in y_train])"
   ]
  },
  {
   "cell_type": "code",
   "execution_count": 20,
   "id": "fresh-patch",
   "metadata": {},
   "outputs": [],
   "source": [
    "x_val = torch.as_tensor([sequence_to_tensor(sentence, token2index, words, unk_token_index, max_length, pad_token_index) \n",
    "                         for sentence in x_val])\n",
    "\n",
    "y_val = torch.as_tensor([sequence_to_tensor(tags, tag2index, tags, unk_tag_index, max_length, pad_tag_index) \n",
    "                         for tags in y_val])"
   ]
  },
  {
   "cell_type": "code",
   "execution_count": 21,
   "id": "indoor-plymouth",
   "metadata": {},
   "outputs": [],
   "source": [
    "x_test = torch.as_tensor([sequence_to_tensor(sentence, token2index, words, unk_token_index, max_length, pad_token_index) \n",
    "                          for sentence in x_test])\n",
    "\n",
    "y_test = torch.as_tensor([sequence_to_tensor(tags, tag2index, tags, unk_tag_index, max_length, pad_tag_index) \n",
    "                          for tags in y_test])"
   ]
  },
  {
   "cell_type": "code",
   "execution_count": 22,
   "id": "cultural-columbus",
   "metadata": {},
   "outputs": [],
   "source": [
    "train_dataset = torch.utils.data.TensorDataset(x_train, y_train)\n",
    "val_dataset = torch.utils.data.TensorDataset(x_val, y_val)\n",
    "test_dataset = torch.utils.data.TensorDataset(x_test, y_test)"
   ]
  },
  {
   "cell_type": "code",
   "execution_count": 23,
   "id": "starting-brick",
   "metadata": {},
   "outputs": [],
   "source": [
    "train_dataloader = torch.utils.data.DataLoader(\n",
    "    train_dataset, batch_size=batch_size, shuffle=True, num_workers=4, pin_memory=gpu, \n",
    ")\n",
    "val_dataloader = torch.utils.data.DataLoader(\n",
    "    val_dataset, batch_size=batch_size, shuffle=True, num_workers=4, pin_memory=gpu, \n",
    ")\n",
    "test_dataloader = torch.utils.data.DataLoader(\n",
    "    test_dataset, batch_size=batch_size, shuffle=True, num_workers=4, pin_memory=gpu, \n",
    ")"
   ]
  },
  {
   "cell_type": "markdown",
   "id": "micro-interest",
   "metadata": {},
   "source": [
    "# Model Time"
   ]
  },
  {
   "cell_type": "code",
   "execution_count": 24,
   "id": "illegal-denver",
   "metadata": {},
   "outputs": [],
   "source": [
    "# https://pytorch.org/tutorials/beginner/nlp/sequence_models_tutorial.html\n",
    "class BiLSTM(nn.Module):\n",
    "    def __init__(self, embeddings, embedding_dim, hidden_dim, tagset_size):\n",
    "        super(BiLSTM, self).__init__()\n",
    "        self.word_embeddings = nn.Embedding.from_pretrained(embeddings, freeze=True)\n",
    "        self.lstm = nn.LSTM(embedding_dim, hidden_dim, bidirectional=True, batch_first=True)\n",
    "        self.tag_classifier = nn.Linear(hidden_dim * 2, tagset_size) #Since BiLSTM\n",
    "\n",
    "    def forward(self, sentence):\n",
    "        # (batch_size, seq_len) -> (batch_size, seq_len, embedding_dim)\n",
    "        embedded = self.word_embeddings(sentence)\n",
    "        # (batch_size, seq_len, embedding_dim) -> (batch_size, seq_len, hidden_dim) \n",
    "        lstm_out, _ = self.lstm(embedded)\n",
    "        # (batch_size, seq_len, hidden_dim) -> (batch_size, seq_len, tagset_size)\n",
    "        tag_space = self.tag_classifier(lstm_out)\n",
    "        return tag_space"
   ]
  },
  {
   "cell_type": "code",
   "execution_count": 25,
   "id": "enhanced-environment",
   "metadata": {},
   "outputs": [],
   "source": [
    "model = BiLSTM(vectors, embedding_dim, nn_hidden_size, len(tag2index))\n",
    "model.double() # Since our embeddings are 32-dimensional\n",
    "loss_function = nn.CrossEntropyLoss()\n",
    "optimizer = torch.optim.Adam(model.parameters(), lr=learning_rate)"
   ]
  },
  {
   "cell_type": "markdown",
   "id": "defined-ground",
   "metadata": {},
   "source": [
    "# Training"
   ]
  },
  {
   "cell_type": "code",
   "execution_count": 26,
   "id": "matched-alarm",
   "metadata": {},
   "outputs": [
    {
     "name": "stderr",
     "output_type": "stream",
     "text": [
      "100%|████████████████████████████████████████████████████████████████████████████████| 439/439 [01:53<00:00,  3.88it/s]\n",
      "100%|████████████████████████████████████████████████████████████████████████████████| 102/102 [00:11<00:00,  8.70it/s]\n",
      "  0%|                                                                                          | 0/439 [00:00<?, ?it/s]"
     ]
    },
    {
     "name": "stdout",
     "output_type": "stream",
     "text": [
      "Epoch: 1/5, Train Loss = 0.1604013345418729,         Validation Loss = 0.0365037158817609\n"
     ]
    },
    {
     "name": "stderr",
     "output_type": "stream",
     "text": [
      "100%|████████████████████████████████████████████████████████████████████████████████| 439/439 [01:55<00:00,  3.80it/s]\n",
      "100%|████████████████████████████████████████████████████████████████████████████████| 102/102 [00:12<00:00,  8.36it/s]\n",
      "  0%|                                                                                          | 0/439 [00:00<?, ?it/s]"
     ]
    },
    {
     "name": "stdout",
     "output_type": "stream",
     "text": [
      "Epoch: 2/5, Train Loss = 0.02656687750011962,         Validation Loss = 0.023897807389759843\n"
     ]
    },
    {
     "name": "stderr",
     "output_type": "stream",
     "text": [
      "100%|████████████████████████████████████████████████████████████████████████████████| 439/439 [01:57<00:00,  3.73it/s]\n",
      "100%|████████████████████████████████████████████████████████████████████████████████| 102/102 [00:12<00:00,  8.24it/s]\n",
      "  0%|                                                                                          | 0/439 [00:00<?, ?it/s]"
     ]
    },
    {
     "name": "stdout",
     "output_type": "stream",
     "text": [
      "Epoch: 3/5, Train Loss = 0.01848523525706136,         Validation Loss = 0.018650044987627793\n"
     ]
    },
    {
     "name": "stderr",
     "output_type": "stream",
     "text": [
      "100%|████████████████████████████████████████████████████████████████████████████████| 439/439 [01:57<00:00,  3.74it/s]\n",
      "100%|████████████████████████████████████████████████████████████████████████████████| 102/102 [00:12<00:00,  8.28it/s]\n",
      "  0%|                                                                                          | 0/439 [00:00<?, ?it/s]"
     ]
    },
    {
     "name": "stdout",
     "output_type": "stream",
     "text": [
      "Epoch: 4/5, Train Loss = 0.014003924061038642,         Validation Loss = 0.01535610073247981\n"
     ]
    },
    {
     "name": "stderr",
     "output_type": "stream",
     "text": [
      " 35%|████████████████████████████▏                                                   | 155/439 [00:43<01:19,  3.59it/s]\n"
     ]
    },
    {
     "ename": "KeyboardInterrupt",
     "evalue": "",
     "output_type": "error",
     "traceback": [
      "\u001b[1;31m---------------------------------------------------------------------------\u001b[0m",
      "\u001b[1;31mKeyboardInterrupt\u001b[0m                         Traceback (most recent call last)",
      "\u001b[1;32m<ipython-input-26-b6477cceb783>\u001b[0m in \u001b[0;36m<module>\u001b[1;34m\u001b[0m\n\u001b[0;32m     14\u001b[0m \u001b[1;33m\u001b[0m\u001b[0m\n\u001b[0;32m     15\u001b[0m         \u001b[1;31m# Forward pass\u001b[0m\u001b[1;33m\u001b[0m\u001b[1;33m\u001b[0m\u001b[1;33m\u001b[0m\u001b[0m\n\u001b[1;32m---> 16\u001b[1;33m         \u001b[0mpredictions\u001b[0m \u001b[1;33m=\u001b[0m \u001b[0mmodel\u001b[0m\u001b[1;33m(\u001b[0m\u001b[0msentences\u001b[0m\u001b[1;33m)\u001b[0m\u001b[1;33m\u001b[0m\u001b[1;33m\u001b[0m\u001b[0m\n\u001b[0m\u001b[0;32m     17\u001b[0m \u001b[1;33m\u001b[0m\u001b[0m\n\u001b[0;32m     18\u001b[0m         \u001b[1;31m# Calculate loss\u001b[0m\u001b[1;33m\u001b[0m\u001b[1;33m\u001b[0m\u001b[1;33m\u001b[0m\u001b[0m\n",
      "\u001b[1;32md:\\dev\\dl4nlp course project\\env\\lib\\site-packages\\torch\\nn\\modules\\module.py\u001b[0m in \u001b[0;36m_call_impl\u001b[1;34m(self, *input, **kwargs)\u001b[0m\n\u001b[0;32m    725\u001b[0m             \u001b[0mresult\u001b[0m \u001b[1;33m=\u001b[0m \u001b[0mself\u001b[0m\u001b[1;33m.\u001b[0m\u001b[0m_slow_forward\u001b[0m\u001b[1;33m(\u001b[0m\u001b[1;33m*\u001b[0m\u001b[0minput\u001b[0m\u001b[1;33m,\u001b[0m \u001b[1;33m**\u001b[0m\u001b[0mkwargs\u001b[0m\u001b[1;33m)\u001b[0m\u001b[1;33m\u001b[0m\u001b[1;33m\u001b[0m\u001b[0m\n\u001b[0;32m    726\u001b[0m         \u001b[1;32melse\u001b[0m\u001b[1;33m:\u001b[0m\u001b[1;33m\u001b[0m\u001b[1;33m\u001b[0m\u001b[0m\n\u001b[1;32m--> 727\u001b[1;33m             \u001b[0mresult\u001b[0m \u001b[1;33m=\u001b[0m \u001b[0mself\u001b[0m\u001b[1;33m.\u001b[0m\u001b[0mforward\u001b[0m\u001b[1;33m(\u001b[0m\u001b[1;33m*\u001b[0m\u001b[0minput\u001b[0m\u001b[1;33m,\u001b[0m \u001b[1;33m**\u001b[0m\u001b[0mkwargs\u001b[0m\u001b[1;33m)\u001b[0m\u001b[1;33m\u001b[0m\u001b[1;33m\u001b[0m\u001b[0m\n\u001b[0m\u001b[0;32m    728\u001b[0m         for hook in itertools.chain(\n\u001b[0;32m    729\u001b[0m                 \u001b[0m_global_forward_hooks\u001b[0m\u001b[1;33m.\u001b[0m\u001b[0mvalues\u001b[0m\u001b[1;33m(\u001b[0m\u001b[1;33m)\u001b[0m\u001b[1;33m,\u001b[0m\u001b[1;33m\u001b[0m\u001b[1;33m\u001b[0m\u001b[0m\n",
      "\u001b[1;32m<ipython-input-24-53722ab8f768>\u001b[0m in \u001b[0;36mforward\u001b[1;34m(self, sentence)\u001b[0m\n\u001b[0;32m     11\u001b[0m         \u001b[0membedded\u001b[0m \u001b[1;33m=\u001b[0m \u001b[0mself\u001b[0m\u001b[1;33m.\u001b[0m\u001b[0mword_embeddings\u001b[0m\u001b[1;33m(\u001b[0m\u001b[0msentence\u001b[0m\u001b[1;33m)\u001b[0m\u001b[1;33m\u001b[0m\u001b[1;33m\u001b[0m\u001b[0m\n\u001b[0;32m     12\u001b[0m         \u001b[1;31m# (batch_size, seq_len, embedding_dim) -> (batch_size, seq_len, hidden_dim)\u001b[0m\u001b[1;33m\u001b[0m\u001b[1;33m\u001b[0m\u001b[1;33m\u001b[0m\u001b[0m\n\u001b[1;32m---> 13\u001b[1;33m         \u001b[0mlstm_out\u001b[0m\u001b[1;33m,\u001b[0m \u001b[0m_\u001b[0m \u001b[1;33m=\u001b[0m \u001b[0mself\u001b[0m\u001b[1;33m.\u001b[0m\u001b[0mlstm\u001b[0m\u001b[1;33m(\u001b[0m\u001b[0membedded\u001b[0m\u001b[1;33m)\u001b[0m\u001b[1;33m\u001b[0m\u001b[1;33m\u001b[0m\u001b[0m\n\u001b[0m\u001b[0;32m     14\u001b[0m         \u001b[1;31m# (batch_size, seq_len, hidden_dim) -> (batch_size, seq_len, tagset_size)\u001b[0m\u001b[1;33m\u001b[0m\u001b[1;33m\u001b[0m\u001b[1;33m\u001b[0m\u001b[0m\n\u001b[0;32m     15\u001b[0m         \u001b[0mtag_space\u001b[0m \u001b[1;33m=\u001b[0m \u001b[0mself\u001b[0m\u001b[1;33m.\u001b[0m\u001b[0mtag_classifier\u001b[0m\u001b[1;33m(\u001b[0m\u001b[0mlstm_out\u001b[0m\u001b[1;33m)\u001b[0m\u001b[1;33m\u001b[0m\u001b[1;33m\u001b[0m\u001b[0m\n",
      "\u001b[1;32md:\\dev\\dl4nlp course project\\env\\lib\\site-packages\\torch\\nn\\modules\\module.py\u001b[0m in \u001b[0;36m_call_impl\u001b[1;34m(self, *input, **kwargs)\u001b[0m\n\u001b[0;32m    725\u001b[0m             \u001b[0mresult\u001b[0m \u001b[1;33m=\u001b[0m \u001b[0mself\u001b[0m\u001b[1;33m.\u001b[0m\u001b[0m_slow_forward\u001b[0m\u001b[1;33m(\u001b[0m\u001b[1;33m*\u001b[0m\u001b[0minput\u001b[0m\u001b[1;33m,\u001b[0m \u001b[1;33m**\u001b[0m\u001b[0mkwargs\u001b[0m\u001b[1;33m)\u001b[0m\u001b[1;33m\u001b[0m\u001b[1;33m\u001b[0m\u001b[0m\n\u001b[0;32m    726\u001b[0m         \u001b[1;32melse\u001b[0m\u001b[1;33m:\u001b[0m\u001b[1;33m\u001b[0m\u001b[1;33m\u001b[0m\u001b[0m\n\u001b[1;32m--> 727\u001b[1;33m             \u001b[0mresult\u001b[0m \u001b[1;33m=\u001b[0m \u001b[0mself\u001b[0m\u001b[1;33m.\u001b[0m\u001b[0mforward\u001b[0m\u001b[1;33m(\u001b[0m\u001b[1;33m*\u001b[0m\u001b[0minput\u001b[0m\u001b[1;33m,\u001b[0m \u001b[1;33m**\u001b[0m\u001b[0mkwargs\u001b[0m\u001b[1;33m)\u001b[0m\u001b[1;33m\u001b[0m\u001b[1;33m\u001b[0m\u001b[0m\n\u001b[0m\u001b[0;32m    728\u001b[0m         for hook in itertools.chain(\n\u001b[0;32m    729\u001b[0m                 \u001b[0m_global_forward_hooks\u001b[0m\u001b[1;33m.\u001b[0m\u001b[0mvalues\u001b[0m\u001b[1;33m(\u001b[0m\u001b[1;33m)\u001b[0m\u001b[1;33m,\u001b[0m\u001b[1;33m\u001b[0m\u001b[1;33m\u001b[0m\u001b[0m\n",
      "\u001b[1;32md:\\dev\\dl4nlp course project\\env\\lib\\site-packages\\torch\\nn\\modules\\rnn.py\u001b[0m in \u001b[0;36mforward\u001b[1;34m(self, input, hx)\u001b[0m\n\u001b[0;32m    579\u001b[0m         \u001b[0mself\u001b[0m\u001b[1;33m.\u001b[0m\u001b[0mcheck_forward_args\u001b[0m\u001b[1;33m(\u001b[0m\u001b[0minput\u001b[0m\u001b[1;33m,\u001b[0m \u001b[0mhx\u001b[0m\u001b[1;33m,\u001b[0m \u001b[0mbatch_sizes\u001b[0m\u001b[1;33m)\u001b[0m\u001b[1;33m\u001b[0m\u001b[1;33m\u001b[0m\u001b[0m\n\u001b[0;32m    580\u001b[0m         \u001b[1;32mif\u001b[0m \u001b[0mbatch_sizes\u001b[0m \u001b[1;32mis\u001b[0m \u001b[1;32mNone\u001b[0m\u001b[1;33m:\u001b[0m\u001b[1;33m\u001b[0m\u001b[1;33m\u001b[0m\u001b[0m\n\u001b[1;32m--> 581\u001b[1;33m             result = _VF.lstm(input, hx, self._flat_weights, self.bias, self.num_layers,\n\u001b[0m\u001b[0;32m    582\u001b[0m                               self.dropout, self.training, self.bidirectional, self.batch_first)\n\u001b[0;32m    583\u001b[0m         \u001b[1;32melse\u001b[0m\u001b[1;33m:\u001b[0m\u001b[1;33m\u001b[0m\u001b[1;33m\u001b[0m\u001b[0m\n",
      "\u001b[1;31mKeyboardInterrupt\u001b[0m: "
     ]
    }
   ],
   "source": [
    "for epoch in range(epochs):\n",
    "    train_loss = 0\n",
    "    val_loss = 0\n",
    "    \n",
    "    # Training Loop\n",
    "    for iteration, batch in enumerate(tqdm(train_dataloader)):\n",
    "        # Move data to device\n",
    "        sentences, tags = batch\n",
    "        sentences = sentences.to(device)\n",
    "        tags = tags.to(device)\n",
    "        \n",
    "        # Zero gradients\n",
    "        optimizer.zero_grad()\n",
    "        \n",
    "        # Forward pass\n",
    "        predictions = model(sentences)\n",
    "        \n",
    "        # Calculate loss\n",
    "        batch_loss = loss_function(predictions.transpose(1, 2), tags)\n",
    "        \n",
    "        # Backward pass\n",
    "        batch_loss.backward()\n",
    "        optimizer.step()\n",
    "        \n",
    "        # Update train loss\n",
    "        train_loss += batch_loss.item()\n",
    "    \n",
    "    # Validation Loop\n",
    "    with torch.no_grad():\n",
    "        for iteration, batch in enumerate(tqdm(val_dataloader)):\n",
    "            # Move data to device\n",
    "            sentences, tags = batch\n",
    "            sentences = sentences.to(device)\n",
    "            tags = tags.to(device)\n",
    "\n",
    "            # Forward pass\n",
    "            predictions = model(sentences)\n",
    "\n",
    "            # Calculate loss\n",
    "            batch_loss = loss_function(predictions.transpose(1, 2), tags)\n",
    "\n",
    "            # Update train loss\n",
    "            val_loss += batch_loss.item()\n",
    "    \n",
    "    # Compute the average losses for this epoch\n",
    "    train_loss = train_loss / len(train_dataloader)\n",
    "    val_loss = val_loss / len(val_dataloader)\n",
    "    \n",
    "    \n",
    "    # Print Metrics\n",
    "    print(\n",
    "        f\"Epoch: {epoch+1}/{epochs}, Train Loss = {train_loss}, \\\n",
    "        Validation Loss = {val_loss}\"\n",
    "    )"
   ]
  },
  {
   "cell_type": "markdown",
   "id": "human-annual",
   "metadata": {},
   "source": [
    "# Evaluation"
   ]
  },
  {
   "cell_type": "code",
   "execution_count": null,
   "id": "early-repeat",
   "metadata": {},
   "outputs": [],
   "source": [
    "model.eval()"
   ]
  },
  {
   "cell_type": "code",
   "execution_count": null,
   "id": "choice-netscape",
   "metadata": {},
   "outputs": [],
   "source": [
    "# Test Loop\n",
    "with torch.no_grad():\n",
    "    y_true = []\n",
    "    y_pred = []\n",
    "    for iteration, batch in enumerate(tqdm(test_dataloader)):\n",
    "        # Move data to device\n",
    "        sentences, tags = batch\n",
    "        sentences = sentences.to(device)\n",
    "\n",
    "        # Forward pass\n",
    "        predictions = model(sentences).detach().numpy().argmax(axis=2)\n",
    "        \n",
    "        y_true.extend(tags.detach().numpy())\n",
    "        y_pred.extend(predictions)\n",
    "y_true = [tensor_to_sequence(x, index2tag) for x in np.asarray(y_true)]\n",
    "y_pred = [tensor_to_sequence(x, index2tag) for x in np.asarray(y_pred)]"
   ]
  },
  {
   "cell_type": "code",
   "execution_count": null,
   "id": "divided-columbia",
   "metadata": {},
   "outputs": [],
   "source": [
    "print(metrics.classification_report(y_true, y_pred, digits=2))"
   ]
  },
  {
   "cell_type": "markdown",
   "id": "quality-brazilian",
   "metadata": {},
   "source": [
    "# Save"
   ]
  },
  {
   "cell_type": "code",
   "execution_count": null,
   "id": "drawn-payday",
   "metadata": {},
   "outputs": [],
   "source": [
    "torch.save(model.state_dict(), model_output_path)"
   ]
  },
  {
   "cell_type": "code",
   "execution_count": null,
   "id": "curious-doctrine",
   "metadata": {},
   "outputs": [],
   "source": []
  },
  {
   "cell_type": "code",
   "execution_count": null,
   "id": "presidential-stuart",
   "metadata": {},
   "outputs": [],
   "source": []
  }
 ],
 "metadata": {
  "kernelspec": {
   "display_name": "Python 3",
   "language": "python",
   "name": "python3"
  },
  "language_info": {
   "codemirror_mode": {
    "name": "ipython",
    "version": 3
   },
   "file_extension": ".py",
   "mimetype": "text/x-python",
   "name": "python",
   "nbconvert_exporter": "python",
   "pygments_lexer": "ipython3",
   "version": "3.8.7"
  }
 },
 "nbformat": 4,
 "nbformat_minor": 5
}