{
 "cells": [
  {
   "cell_type": "code",
   "execution_count": null,
   "id": "naked-coast",
   "metadata": {},
   "outputs": [],
   "source": [
    "import numpy as np\n",
    "\n",
    "import torch\n",
    "import torch.nn as nn\n",
    "import torch.nn.functional as F\n",
    "import torch.optim as optim"
   ]
  },
  {
   "cell_type": "code",
   "execution_count": null,
   "id": "desirable-friend",
   "metadata": {},
   "outputs": [],
   "source": [
    "from sklearn.model_selection import train_test_split\n",
    "from tqdm import tqdm"
   ]
  },
  {
   "cell_type": "code",
   "execution_count": null,
   "id": "stopped-keyboard",
   "metadata": {},
   "outputs": [],
   "source": [
    "seed = 42\n",
    "torch.manual_seed(seed)\n",
    "np.random.seed(seed)"
   ]
  },
  {
   "cell_type": "markdown",
   "id": "incoming-union",
   "metadata": {},
   "source": [
    "# Config"
   ]
  },
  {
   "cell_type": "code",
   "execution_count": null,
   "id": "japanese-surfing",
   "metadata": {},
   "outputs": [],
   "source": [
    "test_split = 0.05\n",
    "validation_split = 0.05\n",
    "\n",
    "learning_rate = 1e-3\n",
    "epochs = 5\n",
    "batch_size = 128\n",
    "\n",
    "input_size = 300\n",
    "bottleneck_size = 200\n",
    "model_version = 4.1\n",
    "\n",
    "alpha = 0.5 # How much the teacher should influence the latent representation\n",
    "\n",
    "experiment_name = f\"autoencoder_{input_size}to{bottleneck_size}_v{model_version}\"\n",
    "dataset = f\"data/embeddings/base/clipped.glove.6B.{input_size}d.txt\"\n",
    "teacher_dataset = f\"data/embeddings/base/clipped.glove.6B.{bottleneck_size}d.txt\""
   ]
  },
  {
   "cell_type": "code",
   "execution_count": null,
   "id": "killing-aquatic",
   "metadata": {},
   "outputs": [],
   "source": [
    "gpu = torch.cuda.is_available()\n",
    "device = torch.device(\"cuda\" if gpu else \"cpu\")"
   ]
  },
  {
   "cell_type": "code",
   "execution_count": null,
   "id": "clinical-solution",
   "metadata": {},
   "outputs": [],
   "source": [
    "print(gpu, device)"
   ]
  },
  {
   "cell_type": "markdown",
   "id": "hollow-browser",
   "metadata": {},
   "source": [
    "# Load & Prepare Embeddings for Training"
   ]
  },
  {
   "cell_type": "code",
   "execution_count": null,
   "id": "guilty-result",
   "metadata": {},
   "outputs": [],
   "source": [
    "def load_embeddings(dataset):\n",
    "    words = []\n",
    "    vectors = []\n",
    "    with open(dataset, \"r\", encoding='utf8') as fp:\n",
    "        for line in fp:\n",
    "            line = line.split()\n",
    "            word = line[0]\n",
    "            vector = np.asarray(line[1:], 'float32')\n",
    "            words.append(word)\n",
    "            vectors.append(vector)\n",
    "    vectors = torch.as_tensor(vectors)\n",
    "    return words, vectors"
   ]
  },
  {
   "cell_type": "code",
   "execution_count": null,
   "id": "surprising-antique",
   "metadata": {},
   "outputs": [],
   "source": [
    "input_words, input_vectors = load_embeddings(dataset)"
   ]
  },
  {
   "cell_type": "code",
   "execution_count": null,
   "id": "acceptable-surprise",
   "metadata": {},
   "outputs": [],
   "source": [
    "teacher_words, teacher_vectors = load_embeddings(teacher_dataset)"
   ]
  },
  {
   "cell_type": "code",
   "execution_count": null,
   "id": "current-catering",
   "metadata": {},
   "outputs": [],
   "source": [
    "test_split = int(test_split * len(input_words))\n",
    "validation_split = int(validation_split* len(input_words))"
   ]
  },
  {
   "cell_type": "code",
   "execution_count": null,
   "id": "civilian-motion",
   "metadata": {},
   "outputs": [],
   "source": [
    "print(len(input_words), input_vectors.shape)\n",
    "print(len(teacher_words), teacher_vectors.shape)\n",
    "print(test_split, validation_split)"
   ]
  },
  {
   "cell_type": "code",
   "execution_count": null,
   "id": "breathing-ministry",
   "metadata": {},
   "outputs": [],
   "source": [
    "input_train_vectors, input_test_vectors, input_train_words, input_test_words = train_test_split(\n",
    "    input_vectors, input_words, test_size=test_split, random_state=seed\n",
    ")"
   ]
  },
  {
   "cell_type": "code",
   "execution_count": null,
   "id": "known-twenty",
   "metadata": {},
   "outputs": [],
   "source": [
    "input_train_vectors, input_validation_vectors, input_train_words, input_validation_words = train_test_split(\n",
    "    input_train_vectors, input_train_words, test_size=test_split, random_state=seed\n",
    ")"
   ]
  },
  {
   "cell_type": "code",
   "execution_count": null,
   "id": "patient-grass",
   "metadata": {},
   "outputs": [],
   "source": [
    "teacher_train_vectors, teacher_test_vectors, teacher_train_words, teacher_test_words = train_test_split(\n",
    "    teacher_vectors, teacher_words, test_size=test_split, random_state=seed\n",
    ")"
   ]
  },
  {
   "cell_type": "code",
   "execution_count": null,
   "id": "other-bryan",
   "metadata": {},
   "outputs": [],
   "source": [
    "teacher_train_vectors, teacher_validation_vectors, teacher_train_words, teacher_validation_words = train_test_split(\n",
    "    teacher_train_vectors, teacher_train_words, test_size=validation_split, random_state=seed\n",
    ")"
   ]
  },
  {
   "cell_type": "code",
   "execution_count": null,
   "id": "adopted-cover",
   "metadata": {},
   "outputs": [],
   "source": [
    "input_train_vectors.shape, input_validation_vectors.shape, input_test_vectors.shape"
   ]
  },
  {
   "cell_type": "code",
   "execution_count": null,
   "id": "auburn-queens",
   "metadata": {},
   "outputs": [],
   "source": [
    "teacher_train_vectors.shape, teacher_validation_vectors.shape, teacher_test_vectors.shape"
   ]
  },
  {
   "cell_type": "code",
   "execution_count": null,
   "id": "specified-gentleman",
   "metadata": {},
   "outputs": [],
   "source": [
    "# Note: We don't actually use these words since the model doesn't care about them.\n",
    "# We just compute them in case we want to check some particular word or something.\n",
    "len(input_train_words), len(input_validation_words), len(input_test_words)"
   ]
  },
  {
   "cell_type": "code",
   "execution_count": null,
   "id": "eleven-grass",
   "metadata": {},
   "outputs": [],
   "source": [
    "train_dataset = torch.utils.data.TensorDataset(input_train_vectors, teacher_train_vectors)\n",
    "validation_dataset = torch.utils.data.TensorDataset(input_validation_vectors, teacher_validation_vectors)\n",
    "test_dataset = torch.utils.data.TensorDataset(input_test_vectors, teacher_test_vectors)"
   ]
  },
  {
   "cell_type": "code",
   "execution_count": null,
   "id": "animal-lafayette",
   "metadata": {},
   "outputs": [],
   "source": [
    "train_dataloader = torch.utils.data.DataLoader(\n",
    "    train_dataset, batch_size=batch_size, shuffle=True, num_workers=4, pin_memory=gpu\n",
    ")\n",
    "validation_dataloader = torch.utils.data.DataLoader(\n",
    "    validation_dataset, batch_size=batch_size, shuffle=True, num_workers=4, pin_memory=gpu\n",
    ")\n",
    "test_dataloader = torch.utils.data.DataLoader(\n",
    "    test_dataset, batch_size=batch_size, shuffle=True, num_workers=4, pin_memory=gpu\n",
    ")"
   ]
  },
  {
   "cell_type": "markdown",
   "id": "advance-peeing",
   "metadata": {},
   "source": [
    "# Model Time"
   ]
  },
  {
   "cell_type": "code",
   "execution_count": null,
   "id": "latin-summary",
   "metadata": {},
   "outputs": [],
   "source": [
    "class AutoEncoderWithoutHiddenLayer(nn.Module):\n",
    "    def __init__(self, input_size, bottleneck_size):\n",
    "        super().__init__()\n",
    "        self.encoder = nn.Linear(in_features=input_size, out_features=bottleneck_size)\n",
    "        self.encoder_activation = nn.Tanh()\n",
    "        \n",
    "        self.decoder = nn.Linear(in_features=bottleneck_size, out_features=input_size)\n",
    "        self.decoder_activation = nn.Tanh()\n",
    "        \n",
    "        self.decoder.weight = nn.Parameter(self.encoder.weight.transpose(0,1))\n",
    "    \n",
    "    def forward(self, features):\n",
    "        latent_representation = self.encoder_activation(self.encoder(features))\n",
    "        reconstructed_input = self.decoder_activation(self.decoder(latent_representation))\n",
    "        return reconstructed_input, latent_representation\n",
    "    \n",
    "    def encode(self, features):\n",
    "        return self.encoder_activation(self.encoder(features))"
   ]
  },
  {
   "cell_type": "code",
   "execution_count": null,
   "id": "quarterly-script",
   "metadata": {},
   "outputs": [],
   "source": [
    "model = AutoEncoderWithoutHiddenLayer(input_size, bottleneck_size).to(device)\n",
    "optimizer = optim.Adam(model.parameters(), lr=learning_rate)\n",
    "criterion = nn.MSELoss()"
   ]
  },
  {
   "cell_type": "code",
   "execution_count": null,
   "id": "referenced-london",
   "metadata": {},
   "outputs": [],
   "source": [
    "model"
   ]
  },
  {
   "cell_type": "code",
   "execution_count": null,
   "id": "individual-xerox",
   "metadata": {
    "scrolled": false
   },
   "outputs": [],
   "source": [
    "for epoch in range(epochs):\n",
    "    train_loss = 0\n",
    "    train_reconstruction_loss = 0\n",
    "    train_teacher_loss = 0\n",
    "    validation_loss = 0\n",
    "    validation_reconstruction_loss = 0\n",
    "    validation_teacher_loss = 0\n",
    "    \n",
    "    # Training Loop\n",
    "    for iteration, batch in enumerate(tqdm(train_dataloader)):\n",
    "        # Reset gradients back to zero for this iteration\n",
    "        optimizer.zero_grad()\n",
    "        \n",
    "        # Get our inputs & our teacher representation\n",
    "        input_batch, teacher_batch = batch\n",
    "        \n",
    "        # Move batch to device\n",
    "        input_batch = input_batch.to(device)\n",
    "\n",
    "        # Run our model & get outputs\n",
    "        outputs, latent_representation = model(input_batch)\n",
    "\n",
    "        # Calculate reconstruction loss\n",
    "        reconstruction_loss = criterion(outputs, input_batch)\n",
    "        teacher_loss = alpha * criterion(latent_representation, teacher_batch)\n",
    "        batch_loss = reconstruction_loss + teacher_loss \n",
    "                  \n",
    "        # Backprop\n",
    "        batch_loss.backward()\n",
    "        \n",
    "        # Update our optimizer parameters\n",
    "        optimizer.step()\n",
    "        \n",
    "        # Add the batch's loss to the total loss for the epoch\n",
    "        train_loss += batch_loss.item()\n",
    "        train_reconstruction_loss += reconstruction_loss.item()\n",
    "        train_teacher_loss += teacher_loss.item()\n",
    "        \n",
    "    # Validation Loop\n",
    "    with torch.no_grad():\n",
    "        for iteration, batch in enumerate(tqdm(validation_dataloader)):\n",
    "            # Get our inputs & our teacher representation\n",
    "            input_batch, teacher_batch = batch\n",
    "            \n",
    "            # Move batch to device\n",
    "            input_batch = input_batch.to(device)\n",
    "\n",
    "            # Run our model & get outputs\n",
    "            outputs, latent_representation = model(input_batch)\n",
    "\n",
    "            # Calculate reconstruction loss\n",
    "            reconstruction_loss = criterion(outputs, input_batch)\n",
    "            teacher_loss = alpha * criterion(latent_representation, teacher_batch)\n",
    "            batch_loss = reconstruction_loss + teacher_loss\n",
    "\n",
    "            # Add the batch's loss to the total loss for the epoch\n",
    "            validation_loss += batch_loss.item()\n",
    "            validation_reconstruction_loss += reconstruction_loss.item()\n",
    "            validation_teacher_loss += teacher_loss.item()\n",
    "    \n",
    "    # Compute the average losses for this epoch\n",
    "    train_loss = train_loss / len(train_dataloader)\n",
    "    train_reconstruction_loss = train_reconstruction_loss / len(train_dataloader)\n",
    "    train_teacher_loss = train_teacher_loss / len(train_dataloader)\n",
    "    \n",
    "    validation_loss = validation_loss / len(validation_dataloader)\n",
    "    validation_reconstruction_loss = validation_reconstruction_loss / len(validation_dataloader)\n",
    "    validation_teacher_loss = validation_teacher_loss / len(validation_dataloader)\n",
    "    \n",
    "    # Print Metrics\n",
    "    print(\n",
    "        f\"Epoch: {epoch+1}/{epochs}, \\\n",
    "        \\nTrain Reconstruction Loss = {train_loss} = {train_reconstruction_loss} + {train_teacher_loss}, \\\n",
    "        \\nValidation Reconstruction Loss = {validation_loss} = {validation_reconstruction_loss} + {validation_teacher_loss}\"\n",
    "    )"
   ]
  },
  {
   "cell_type": "markdown",
   "id": "respective-kingston",
   "metadata": {},
   "source": [
    "# Test Model"
   ]
  },
  {
   "cell_type": "code",
   "execution_count": null,
   "id": "flexible-roots",
   "metadata": {},
   "outputs": [],
   "source": [
    "model.eval()"
   ]
  },
  {
   "cell_type": "code",
   "execution_count": null,
   "id": "governing-rates",
   "metadata": {},
   "outputs": [],
   "source": [
    "test_loss = 0\n",
    "test_reconstruction_loss = 0\n",
    "test_teacher_loss = 0\n",
    "\n",
    "# Testing Loop\n",
    "with torch.no_grad():\n",
    "    for iteration, batch in enumerate(tqdm(test_dataloader)):\n",
    "        # Get our inputs & our teacher representation\n",
    "        input_batch, teacher_batch = batch\n",
    "\n",
    "        # Move batch to device\n",
    "        input_batch = input_batch.to(device)\n",
    "\n",
    "        # Run our model & get outputs\n",
    "        outputs, latent_representation = model(input_batch)\n",
    "\n",
    "        # Calculate reconstruction loss\n",
    "        reconstruction_loss = criterion(outputs, input_batch)\n",
    "        teacher_loss = alpha * criterion(latent_representation, teacher_batch)\n",
    "        batch_loss = reconstruction_loss + teacher_loss\n",
    "\n",
    "        # Add the batch's loss to the total loss for the epoch\n",
    "        test_loss += batch_loss.item()\n",
    "        test_reconstruction_loss += reconstruction_loss.item()\n",
    "        test_teacher_loss += teacher_loss.item()\n",
    "\n",
    "# Compute the average losses for this epoch\n",
    "test_loss = test_loss / len(test_dataloader)\n",
    "test_reconstruction_loss = test_reconstruction_loss / len(test_dataloader)\n",
    "test_teacher_loss = test_teacher_loss / len(test_dataloader)\n",
    "\n",
    "# Print Metrics\n",
    "print(\n",
    "        f\"Train Reconstruction Loss = {test_loss} = {test_reconstruction_loss} + {test_teacher_loss}\"\n",
    "    )"
   ]
  },
  {
   "cell_type": "markdown",
   "id": "imported-stanley",
   "metadata": {},
   "source": [
    "# Generate Latent Embeddings"
   ]
  },
  {
   "cell_type": "code",
   "execution_count": null,
   "id": "sophisticated-version",
   "metadata": {},
   "outputs": [],
   "source": [
    "latent_vectors = {}\n",
    "with torch.no_grad():\n",
    "    for i, (word, vector) in enumerate(tqdm(zip(input_words, input_vectors))):\n",
    "        latent_vectors[word] = model.encode(vector)"
   ]
  },
  {
   "cell_type": "code",
   "execution_count": null,
   "id": "inside-handling",
   "metadata": {
    "scrolled": true
   },
   "outputs": [],
   "source": [
    "len(latent_vectors)"
   ]
  },
  {
   "cell_type": "code",
   "execution_count": null,
   "id": "loaded-start",
   "metadata": {},
   "outputs": [],
   "source": [
    "latent_vectors['the']"
   ]
  },
  {
   "cell_type": "markdown",
   "id": "honest-mount",
   "metadata": {},
   "source": [
    "# Save Model & Embeddings"
   ]
  },
  {
   "cell_type": "code",
   "execution_count": null,
   "id": "political-eclipse",
   "metadata": {},
   "outputs": [],
   "source": [
    "torch.save(model.state_dict(), f\"models/{experiment_name}.pt\")"
   ]
  },
  {
   "cell_type": "code",
   "execution_count": null,
   "id": "blond-refrigerator",
   "metadata": {},
   "outputs": [],
   "source": [
    "# Need to convert the latent embeddings into the glove format\n",
    "# word dim1 dim2 dim3 dim4 ... dimX\n",
    "lines = []\n",
    "for i, (word, vector) in tqdm(enumerate(latent_vectors.items())):\n",
    "    line = [word] + [str(x) for x in vector.tolist()]\n",
    "    lines.append(' '.join(line))"
   ]
  },
  {
   "cell_type": "code",
   "execution_count": null,
   "id": "wooden-conservative",
   "metadata": {},
   "outputs": [],
   "source": [
    "with open(f\"data/embeddings/trained/{experiment_name}.glove.6B.300d.txt\", \"w\", encoding=\"utf-8\") as fp:\n",
    "    fp.write(\"\\n\".join(lines))"
   ]
  },
  {
   "cell_type": "code",
   "execution_count": null,
   "id": "desperate-desire",
   "metadata": {},
   "outputs": [],
   "source": []
  },
  {
   "cell_type": "code",
   "execution_count": null,
   "id": "republican-volume",
   "metadata": {},
   "outputs": [],
   "source": []
  }
 ],
 "metadata": {
  "kernelspec": {
   "display_name": "Python 3",
   "language": "python",
   "name": "python3"
  },
  "language_info": {
   "codemirror_mode": {
    "name": "ipython",
    "version": 3
   },
   "file_extension": ".py",
   "mimetype": "text/x-python",
   "name": "python",
   "nbconvert_exporter": "python",
   "pygments_lexer": "ipython3",
   "version": "3.8.7"
  }
 },
 "nbformat": 4,
 "nbformat_minor": 5
}
