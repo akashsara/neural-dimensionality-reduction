{
 "cells": [
  {
   "cell_type": "code",
   "execution_count": 34,
   "id": "instrumental-refund",
   "metadata": {},
   "outputs": [],
   "source": [
    "from sklearn.decomposition import PCA\n",
    "import numpy as np\n",
    "from tqdm import tqdm"
   ]
  },
  {
   "cell_type": "code",
   "execution_count": 35,
   "id": "japanese-address",
   "metadata": {},
   "outputs": [],
   "source": [
    "seed = 42\n",
    "np.random.seed(seed)"
   ]
  },
  {
   "cell_type": "markdown",
   "id": "favorite-analyst",
   "metadata": {},
   "source": [
    "# Config"
   ]
  },
  {
   "cell_type": "code",
   "execution_count": 50,
   "id": "divine-geography",
   "metadata": {},
   "outputs": [],
   "source": [
    "reduced_dimensions = 150\n",
    "experiment_name = \"pca_v2\"\n",
    "dataset = \"data/embeddings/base/clipped.glove.6B.300d.txt\"\n",
    "use_ppa = True # PPA = Post Processing Algorithm from Mu & Viswanath"
   ]
  },
  {
   "cell_type": "markdown",
   "id": "included-footage",
   "metadata": {},
   "source": [
    "# Load & Prepare Embeddings"
   ]
  },
  {
   "cell_type": "code",
   "execution_count": 37,
   "id": "modified-soviet",
   "metadata": {},
   "outputs": [],
   "source": [
    "words = []\n",
    "vectors = []\n",
    "with open(dataset, \"r\", encoding='utf8') as fp:\n",
    "    for line in fp:\n",
    "        line = line.split()\n",
    "        word = line[0]\n",
    "        vector = np.asarray(line[1:], 'float32')\n",
    "        words.append(word)\n",
    "        vectors.append(vector)\n",
    "vectors = np.asarray(vectors)"
   ]
  },
  {
   "cell_type": "code",
   "execution_count": 51,
   "id": "progressive-incidence",
   "metadata": {},
   "outputs": [
    {
     "data": {
      "text/plain": [
       "(400000, 300)"
      ]
     },
     "execution_count": 51,
     "metadata": {},
     "output_type": "execute_result"
    }
   ],
   "source": [
    "vectors.shape"
   ]
  },
  {
   "cell_type": "markdown",
   "id": "studied-requirement",
   "metadata": {},
   "source": [
    "# Model Time"
   ]
  },
  {
   "cell_type": "code",
   "execution_count": 52,
   "id": "certified-power",
   "metadata": {},
   "outputs": [],
   "source": [
    "def ppa(vectors, D=7):\n",
    "    pca = PCA(n_components=reduced_dimensions)\n",
    "    # Subtract Mean Vector\n",
    "    mean_removed = vectors - np.mean(vectors)\n",
    "    # Remove the top-D components\n",
    "    _ = pca.fit_transform(mean_removed)\n",
    "    components = pca.components_\n",
    "    post_ppa = []\n",
    "    for i, x in enumerate(mean_removed):\n",
    "        for component in components[0:7]:\n",
    "            x = x - np.dot(component.transpose(),x) * component\n",
    "        post_ppa.append(x)\n",
    "    return np.asarray(post_ppa)"
   ]
  },
  {
   "cell_type": "code",
   "execution_count": 53,
   "id": "covered-finish",
   "metadata": {},
   "outputs": [],
   "source": [
    "if use_ppa:\n",
    "    # https://github.com/vyraun/Half-Size/blob/master/algo.py\n",
    "    # Apply PPA Once\n",
    "    reduced_vectors = ppa(vectors, D=7)\n",
    "    \n",
    "    # Perform PCA\n",
    "    pca = PCA(n_components=reduced_dimensions)\n",
    "    reduced_vectors -= np.mean(reduced_vectors)\n",
    "    reduced_vectors = pca.fit_transform(reduced_vectors)\n",
    "    \n",
    "    # Apply PPA the 2nd time\n",
    "    reduced_vectors = ppa(reduced_vectors, D=7)    \n",
    "else:\n",
    "    pca = PCA(n_components=reduced_dimensions)\n",
    "    reduced_vectors = pca.fit_transform(vectors)"
   ]
  },
  {
   "cell_type": "code",
   "execution_count": 54,
   "id": "intimate-psychology",
   "metadata": {},
   "outputs": [
    {
     "data": {
      "text/plain": [
       "(400000, 150)"
      ]
     },
     "execution_count": 54,
     "metadata": {},
     "output_type": "execute_result"
    }
   ],
   "source": [
    "reduced_vectors.shape"
   ]
  },
  {
   "cell_type": "markdown",
   "id": "voluntary-variety",
   "metadata": {},
   "source": [
    "# Save Model & Embeddings"
   ]
  },
  {
   "cell_type": "code",
   "execution_count": 55,
   "id": "coordinate-surfing",
   "metadata": {},
   "outputs": [
    {
     "name": "stderr",
     "output_type": "stream",
     "text": [
      "400000it [00:56, 7076.27it/s]\n"
     ]
    }
   ],
   "source": [
    "# Need to convert the latent embeddings into the glove format\n",
    "# word dim1 dim2 dim3 dim4 ... dimX\n",
    "lines = []\n",
    "for i, (word, vector) in tqdm(enumerate(zip(words, reduced_vectors))):\n",
    "    line = [word] + [str(x) for x in vector.tolist()]\n",
    "    lines.append(' '.join(line))"
   ]
  },
  {
   "cell_type": "code",
   "execution_count": 56,
   "id": "incident-purpose",
   "metadata": {},
   "outputs": [],
   "source": [
    "with open(f\"data/embeddings/trained/{experiment_name}.glove.6B.300d.txt\", \"w\", encoding=\"utf-8\") as fp:\n",
    "    fp.write(\"\\n\".join(lines))"
   ]
  },
  {
   "cell_type": "code",
   "execution_count": null,
   "id": "burning-arrival",
   "metadata": {},
   "outputs": [],
   "source": []
  }
 ],
 "metadata": {
  "kernelspec": {
   "display_name": "Python 3",
   "language": "python",
   "name": "python3"
  },
  "language_info": {
   "codemirror_mode": {
    "name": "ipython",
    "version": 3
   },
   "file_extension": ".py",
   "mimetype": "text/x-python",
   "name": "python",
   "nbconvert_exporter": "python",
   "pygments_lexer": "ipython3",
   "version": "3.8.7"
  }
 },
 "nbformat": 4,
 "nbformat_minor": 5
}
