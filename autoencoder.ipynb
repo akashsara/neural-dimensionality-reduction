{
 "cells": [
  {
   "cell_type": "code",
   "execution_count": 1,
   "id": "naked-coast",
   "metadata": {},
   "outputs": [],
   "source": [
    "import numpy as np\n",
    "\n",
    "import torch\n",
    "import torch.nn as nn\n",
    "import torch.nn.functional as F\n",
    "import torch.optim as optim"
   ]
  },
  {
   "cell_type": "code",
   "execution_count": 2,
   "id": "desirable-friend",
   "metadata": {},
   "outputs": [],
   "source": [
    "from sklearn.model_selection import train_test_split\n",
    "from tqdm import tqdm"
   ]
  },
  {
   "cell_type": "code",
   "execution_count": 3,
   "id": "stopped-keyboard",
   "metadata": {},
   "outputs": [],
   "source": [
    "seed = 42\n",
    "torch.manual_seed(seed)\n",
    "np.random.seed(seed)"
   ]
  },
  {
   "cell_type": "markdown",
   "id": "incoming-union",
   "metadata": {},
   "source": [
    "# Config"
   ]
  },
  {
   "cell_type": "code",
   "execution_count": 86,
   "id": "japanese-surfing",
   "metadata": {},
   "outputs": [],
   "source": [
    "test_split = 0.05\n",
    "validation_split = 0.05\n",
    "learning_rate = 1e-3\n",
    "input_size = 300\n",
    "hidden_size = 225\n",
    "bottleneck_size = 150\n",
    "epochs = 5\n",
    "batch_size = 128\n",
    "use_hidden_layer = True\n",
    "experiment_name = \"baseline_autoencoder_v3.2\"\n",
    "dataset = \"data/embeddings/base/clipped.glove.6B.300d.txt\""
   ]
  },
  {
   "cell_type": "code",
   "execution_count": 87,
   "id": "killing-aquatic",
   "metadata": {},
   "outputs": [],
   "source": [
    "gpu = torch.cuda.is_available()\n",
    "device = torch.device(\"cuda\" if gpu else \"cpu\")"
   ]
  },
  {
   "cell_type": "markdown",
   "id": "hollow-browser",
   "metadata": {},
   "source": [
    "# Load & Prepare Embeddings for Training"
   ]
  },
  {
   "cell_type": "code",
   "execution_count": 71,
   "id": "surprising-antique",
   "metadata": {},
   "outputs": [],
   "source": [
    "words = []\n",
    "vectors = []\n",
    "with open(dataset, \"r\", encoding='utf8') as fp:\n",
    "    for line in fp:\n",
    "        line = line.split()\n",
    "        word = line[0]\n",
    "        vector = np.asarray(line[1:], 'float32')\n",
    "        words.append(word)\n",
    "        vectors.append(vector)\n",
    "vectors = torch.from_numpy(np.asarray(vectors))"
   ]
  },
  {
   "cell_type": "code",
   "execution_count": 72,
   "id": "current-catering",
   "metadata": {},
   "outputs": [],
   "source": [
    "test_split = int(test_split * len(words))\n",
    "validation_split = int(validation_split* len(words))"
   ]
  },
  {
   "cell_type": "code",
   "execution_count": 80,
   "id": "civilian-motion",
   "metadata": {},
   "outputs": [
    {
     "name": "stdout",
     "output_type": "stream",
     "text": [
      "400000 torch.Size([400000, 300])\n",
      "20000 20000\n"
     ]
    }
   ],
   "source": [
    "print(len(words), vectors.shape)\n",
    "print(test_split, validation_split)"
   ]
  },
  {
   "cell_type": "code",
   "execution_count": 81,
   "id": "patient-grass",
   "metadata": {},
   "outputs": [],
   "source": [
    "train_vectors, test_vectors, train_words, test_words = train_test_split(\n",
    "    vectors, words, test_size=test_split, random_state=seed\n",
    ")"
   ]
  },
  {
   "cell_type": "code",
   "execution_count": 82,
   "id": "other-bryan",
   "metadata": {},
   "outputs": [],
   "source": [
    "train_vectors, validation_vectors, train_words, validation_words = train_test_split(\n",
    "    train_vectors, train_words, test_size=validation_split, random_state=seed\n",
    ")"
   ]
  },
  {
   "cell_type": "code",
   "execution_count": 83,
   "id": "falling-toddler",
   "metadata": {},
   "outputs": [
    {
     "data": {
      "text/plain": [
       "(torch.Size([360000, 300]), torch.Size([20000, 300]), torch.Size([20000, 300]))"
      ]
     },
     "execution_count": 83,
     "metadata": {},
     "output_type": "execute_result"
    }
   ],
   "source": [
    "train_vectors.shape, validation_vectors.shape, test_vectors.shape"
   ]
  },
  {
   "cell_type": "code",
   "execution_count": 88,
   "id": "specified-gentleman",
   "metadata": {},
   "outputs": [
    {
     "data": {
      "text/plain": [
       "(360000, 20000, 20000)"
      ]
     },
     "execution_count": 88,
     "metadata": {},
     "output_type": "execute_result"
    }
   ],
   "source": [
    "# Note: We don't actually use these words since the model doesn't care about them.\n",
    "# We just compute them in case we want to check some particular word or something.\n",
    "len(train_words), len(validation_words), len(test_words)"
   ]
  },
  {
   "cell_type": "code",
   "execution_count": 89,
   "id": "animal-lafayette",
   "metadata": {},
   "outputs": [],
   "source": [
    "train_dataloader = torch.utils.data.DataLoader(\n",
    "    train_vectors, batch_size=batch_size, shuffle=True, num_workers=4, pin_memory=gpu\n",
    ")\n",
    "validation_dataloader = torch.utils.data.DataLoader(\n",
    "    validation_vectors, batch_size=batch_size, shuffle=True, num_workers=4, pin_memory=gpu\n",
    ")\n",
    "test_dataloader = torch.utils.data.DataLoader(\n",
    "    test_vectors, batch_size=batch_size, shuffle=True, num_workers=4, pin_memory=gpu\n",
    ")"
   ]
  },
  {
   "cell_type": "markdown",
   "id": "advance-peeing",
   "metadata": {},
   "source": [
    "# Model Time"
   ]
  },
  {
   "cell_type": "code",
   "execution_count": 90,
   "id": "latin-summary",
   "metadata": {},
   "outputs": [],
   "source": [
    "class AutoEncoderWithoutHiddenLayer(nn.Module):\n",
    "    def __init__(self, input_size, bottleneck_size):\n",
    "        super().__init__()\n",
    "        self.encoder = nn.Linear(in_features=input_size, out_features=bottleneck_size)\n",
    "        self.encoder_activation = nn.Tanh()\n",
    "        \n",
    "        self.decoder = nn.Linear(in_features=bottleneck_size, out_features=input_size)\n",
    "        self.decoder_activation = nn.Tanh()\n",
    "        \n",
    "        self.decoder.weight = nn.Parameter(self.encoder.weight.transpose(0,1))\n",
    "    \n",
    "    def forward(self, features):\n",
    "        latent_representation = self.encoder_activation(self.encoder(features))\n",
    "        reconstructed_input = self.decoder_activation(self.decoder(latent_representation))\n",
    "        return reconstructed_input\n",
    "    \n",
    "    def encode(self, features):\n",
    "        return self.encoder_activation(self.encoder(features))"
   ]
  },
  {
   "cell_type": "code",
   "execution_count": 91,
   "id": "small-concern",
   "metadata": {},
   "outputs": [],
   "source": [
    "class AutoEncoderWithHiddenLayer(nn.Module):\n",
    "    def __init__(self, input_size, hidden_size, bottleneck_size):\n",
    "        super().__init__()\n",
    "        self.encoder_input = nn.Linear(in_features=input_size, out_features=hidden_size)\n",
    "        self.encoder_input_activation = nn.ReLU(True)\n",
    "        self.encoder_hidden = nn.Linear(in_features=hidden_size, out_features=bottleneck_size)\n",
    "        self.encoder_hidden_activation = nn.Tanh()\n",
    "        \n",
    "        self.decoder_hidden = nn.Linear(in_features=bottleneck_size, out_features=hidden_size)\n",
    "        self.decoder_hidden_activation = nn.ReLU(True)\n",
    "        self.decoder_output = nn.Linear(in_features=hidden_size, out_features=input_size)\n",
    "        self.decoder_output_activation = nn.Tanh()\n",
    "        \n",
    "        self.decoder_hidden.weight = nn.Parameter(self.encoder_hidden.weight.transpose(0,1))\n",
    "        self.decoder_output.weight = nn.Parameter(self.encoder_input.weight.transpose(0,1))\n",
    "        \n",
    "        self.encoder = [\n",
    "            self.encoder_input, self.encoder_input_activation, self.encoder_hidden, self.encoder_hidden_activation\n",
    "        ]\n",
    "        self.decoder = [\n",
    "            self.decoder_hidden, self.decoder_hidden_activation, self.decoder_output, self.decoder_output_activation\n",
    "        ]\n",
    "    \n",
    "    def forward(self, features):\n",
    "        # Encoder\n",
    "        for layer in self.encoder:\n",
    "            features = layer(features)\n",
    "        # Decoder\n",
    "        for layer in self.decoder:\n",
    "            features = layer(features)\n",
    "        return features\n",
    "    \n",
    "    def encode(self, features):\n",
    "        for layer in self.encoder:\n",
    "            features = layer(features)\n",
    "        return features"
   ]
  },
  {
   "cell_type": "code",
   "execution_count": 92,
   "id": "quarterly-script",
   "metadata": {},
   "outputs": [],
   "source": [
    "if use_hidden_layer:\n",
    "    model = AutoEncoderWithHiddenLayer(input_size, hidden_size, bottleneck_size).to(device)\n",
    "else:\n",
    "    model = AutoEncoderWithoutHiddenLayer(input_size, bottleneck_size).to(device)\n",
    "optimizer = optim.Adam(model.parameters(), lr=learning_rate)\n",
    "criterion = nn.MSELoss()"
   ]
  },
  {
   "cell_type": "code",
   "execution_count": 93,
   "id": "referenced-london",
   "metadata": {},
   "outputs": [
    {
     "data": {
      "text/plain": [
       "AutoEncoderWithHiddenLayer(\n",
       "  (encoder_input): Linear(in_features=300, out_features=225, bias=True)\n",
       "  (encoder_input_activation): ReLU(inplace=True)\n",
       "  (encoder_hidden): Linear(in_features=225, out_features=150, bias=True)\n",
       "  (encoder_hidden_activation): Tanh()\n",
       "  (decoder_hidden): Linear(in_features=150, out_features=225, bias=True)\n",
       "  (decoder_hidden_activation): ReLU(inplace=True)\n",
       "  (decoder_output): Linear(in_features=225, out_features=300, bias=True)\n",
       "  (decoder_output_activation): Tanh()\n",
       ")"
      ]
     },
     "execution_count": 93,
     "metadata": {},
     "output_type": "execute_result"
    }
   ],
   "source": [
    "model"
   ]
  },
  {
   "cell_type": "code",
   "execution_count": 94,
   "id": "individual-xerox",
   "metadata": {},
   "outputs": [
    {
     "name": "stderr",
     "output_type": "stream",
     "text": [
      "100%|█████████████████████████████████████████████████████████████████████████████| 2813/2813 [00:20<00:00, 138.92it/s]\n",
      "100%|███████████████████████████████████████████████████████████████████████████████| 157/157 [00:01<00:00, 133.36it/s]\n",
      "  0%|                                                                                         | 0/2813 [00:00<?, ?it/s]"
     ]
    },
    {
     "name": "stdout",
     "output_type": "stream",
     "text": [
      "Epoch: 1/5, Train Reconstruction Loss = 0.04949438800638654,         Validation Reconstruction Loss = 0.045302523905114765\n"
     ]
    },
    {
     "name": "stderr",
     "output_type": "stream",
     "text": [
      "100%|█████████████████████████████████████████████████████████████████████████████| 2813/2813 [00:20<00:00, 140.39it/s]\n",
      "100%|███████████████████████████████████████████████████████████████████████████████| 157/157 [00:01<00:00, 132.01it/s]\n",
      "  0%|                                                                                         | 0/2813 [00:00<?, ?it/s]"
     ]
    },
    {
     "name": "stdout",
     "output_type": "stream",
     "text": [
      "Epoch: 2/5, Train Reconstruction Loss = 0.045042383778870765,         Validation Reconstruction Loss = 0.04549318632692288\n"
     ]
    },
    {
     "name": "stderr",
     "output_type": "stream",
     "text": [
      "100%|█████████████████████████████████████████████████████████████████████████████| 2813/2813 [00:20<00:00, 140.63it/s]\n",
      "100%|███████████████████████████████████████████████████████████████████████████████| 157/157 [00:01<00:00, 133.70it/s]\n",
      "  0%|                                                                                         | 0/2813 [00:00<?, ?it/s]"
     ]
    },
    {
     "name": "stdout",
     "output_type": "stream",
     "text": [
      "Epoch: 3/5, Train Reconstruction Loss = 0.04553679481461258,         Validation Reconstruction Loss = 0.04667897176021223\n"
     ]
    },
    {
     "name": "stderr",
     "output_type": "stream",
     "text": [
      "100%|█████████████████████████████████████████████████████████████████████████████| 2813/2813 [00:19<00:00, 141.08it/s]\n",
      "100%|███████████████████████████████████████████████████████████████████████████████| 157/157 [00:01<00:00, 134.73it/s]\n",
      "  0%|                                                                                         | 0/2813 [00:00<?, ?it/s]"
     ]
    },
    {
     "name": "stdout",
     "output_type": "stream",
     "text": [
      "Epoch: 4/5, Train Reconstruction Loss = 0.045967318583776465,         Validation Reconstruction Loss = 0.047221679928576114\n"
     ]
    },
    {
     "name": "stderr",
     "output_type": "stream",
     "text": [
      "100%|█████████████████████████████████████████████████████████████████████████████| 2813/2813 [00:19<00:00, 141.45it/s]\n",
      "100%|███████████████████████████████████████████████████████████████████████████████| 157/157 [00:01<00:00, 134.85it/s]"
     ]
    },
    {
     "name": "stdout",
     "output_type": "stream",
     "text": [
      "Epoch: 5/5, Train Reconstruction Loss = 0.04639475092350102,         Validation Reconstruction Loss = 0.04671787914292068\n"
     ]
    },
    {
     "name": "stderr",
     "output_type": "stream",
     "text": [
      "\n"
     ]
    }
   ],
   "source": [
    "for epoch in range(epochs):\n",
    "    train_loss = 0\n",
    "    validation_loss = 0\n",
    "    \n",
    "    # Training Loop\n",
    "    for iteration, batch in enumerate(tqdm(train_dataloader)):\n",
    "        # Move batch to device\n",
    "        batch = batch.to(device)\n",
    "        \n",
    "        # Reset gradients back to zero for this iteration\n",
    "        optimizer.zero_grad()\n",
    "        \n",
    "        # Run our model & get outputs\n",
    "        outputs = model(batch)\n",
    "        \n",
    "        # Calculate reconstruction loss\n",
    "        batch_loss = criterion(outputs, batch)\n",
    "        \n",
    "        # Backprop\n",
    "        batch_loss.backward()\n",
    "        \n",
    "        # Update our optimizer parameters\n",
    "        optimizer.step()\n",
    "        \n",
    "        # Add the batch's loss to the total loss for the epoch\n",
    "        train_loss += batch_loss.item()\n",
    "        \n",
    "    # Validation Loop\n",
    "    with torch.no_grad():\n",
    "        for iteration, batch in enumerate(tqdm(validation_dataloader)):\n",
    "            # Move batch to device\n",
    "            batch = batch.to(device)\n",
    "\n",
    "            # Run our model & get outputs\n",
    "            outputs = model(batch)\n",
    "\n",
    "            # Calculate reconstruction loss\n",
    "            batch_loss = criterion(outputs, batch)\n",
    "\n",
    "            # Add the batch's loss to the total loss for the epoch\n",
    "            validation_loss += batch_loss.item()\n",
    "    \n",
    "    # Compute the average losses for this epoch\n",
    "    train_loss = train_loss / len(train_dataloader)\n",
    "    validation_loss = validation_loss / len(validation_dataloader)\n",
    "    \n",
    "    # Print Metrics\n",
    "    print(\n",
    "        f\"Epoch: {epoch+1}/{epochs}, Train Reconstruction Loss = {train_loss}, \\\n",
    "        Validation Reconstruction Loss = {validation_loss}\"\n",
    "    )"
   ]
  },
  {
   "cell_type": "markdown",
   "id": "respective-kingston",
   "metadata": {},
   "source": [
    "# Test Model"
   ]
  },
  {
   "cell_type": "code",
   "execution_count": 95,
   "id": "flexible-roots",
   "metadata": {},
   "outputs": [
    {
     "data": {
      "text/plain": [
       "AutoEncoderWithHiddenLayer(\n",
       "  (encoder_input): Linear(in_features=300, out_features=225, bias=True)\n",
       "  (encoder_input_activation): ReLU(inplace=True)\n",
       "  (encoder_hidden): Linear(in_features=225, out_features=150, bias=True)\n",
       "  (encoder_hidden_activation): Tanh()\n",
       "  (decoder_hidden): Linear(in_features=150, out_features=225, bias=True)\n",
       "  (decoder_hidden_activation): ReLU(inplace=True)\n",
       "  (decoder_output): Linear(in_features=225, out_features=300, bias=True)\n",
       "  (decoder_output_activation): Tanh()\n",
       ")"
      ]
     },
     "execution_count": 95,
     "metadata": {},
     "output_type": "execute_result"
    }
   ],
   "source": [
    "model.eval()"
   ]
  },
  {
   "cell_type": "code",
   "execution_count": 96,
   "id": "governing-rates",
   "metadata": {},
   "outputs": [
    {
     "name": "stderr",
     "output_type": "stream",
     "text": [
      "100%|███████████████████████████████████████████████████████████████████████████████| 157/157 [00:01<00:00, 128.24it/s]"
     ]
    },
    {
     "name": "stdout",
     "output_type": "stream",
     "text": [
      "Test Reconstruction Loss = 0.046632874353676086\n"
     ]
    },
    {
     "name": "stderr",
     "output_type": "stream",
     "text": [
      "\n"
     ]
    }
   ],
   "source": [
    "reconstruction_loss = 0\n",
    "\n",
    "# Testing Loop\n",
    "with torch.no_grad():\n",
    "    for iteration, batch in enumerate(tqdm(test_dataloader)):\n",
    "        # Move batch to device\n",
    "        batch = batch.to(device)\n",
    "\n",
    "        # Run our model & get outputs\n",
    "        outputs = model(batch)\n",
    "\n",
    "        # Calculate reconstruction loss\n",
    "        batch_loss = criterion(outputs, batch)\n",
    "\n",
    "        # Add the batch's loss to the total loss for the epoch\n",
    "        reconstruction_loss += batch_loss.item()\n",
    "\n",
    "# Compute the average losses for this epoch\n",
    "reconstruction_loss = reconstruction_loss / len(test_dataloader)\n",
    "\n",
    "# Print Metrics\n",
    "print(\n",
    "    f\"Test Reconstruction Loss = {reconstruction_loss}\"\n",
    ")"
   ]
  },
  {
   "cell_type": "markdown",
   "id": "imported-stanley",
   "metadata": {},
   "source": [
    "# Generate Latent Embeddings"
   ]
  },
  {
   "cell_type": "code",
   "execution_count": 97,
   "id": "sophisticated-version",
   "metadata": {},
   "outputs": [
    {
     "name": "stderr",
     "output_type": "stream",
     "text": [
      "400000it [00:33, 11812.06it/s]\n"
     ]
    }
   ],
   "source": [
    "latent_vectors = {}\n",
    "with torch.no_grad():\n",
    "    for i, (word, vector) in enumerate(tqdm(zip(words, vectors))):\n",
    "        latent_vectors[word] = model.encode(vector)"
   ]
  },
  {
   "cell_type": "code",
   "execution_count": 98,
   "id": "inside-handling",
   "metadata": {
    "scrolled": true
   },
   "outputs": [
    {
     "data": {
      "text/plain": [
       "400000"
      ]
     },
     "execution_count": 98,
     "metadata": {},
     "output_type": "execute_result"
    }
   ],
   "source": [
    "len(latent_vectors)"
   ]
  },
  {
   "cell_type": "code",
   "execution_count": 99,
   "id": "suited-projector",
   "metadata": {},
   "outputs": [
    {
     "data": {
      "text/plain": [
       "tensor([-6.4498e-02, -7.6930e-01,  2.5137e-01, -4.8166e-01,  7.5420e-02,\n",
       "        -3.8943e-02,  3.8439e-01, -3.0558e-02,  7.7318e-01,  1.1349e-01,\n",
       "         3.4453e-01,  6.5616e-01,  3.6993e-02, -3.8913e-01, -5.0751e-01,\n",
       "        -4.1768e-01,  8.7623e-03, -1.4096e-01,  5.8439e-01,  9.4979e-02,\n",
       "        -4.4509e-01,  4.4437e-01, -8.9866e-03, -3.2963e-01,  4.4794e-01,\n",
       "        -9.5649e-02,  2.6015e-01, -5.5979e-01, -7.2274e-01,  5.3344e-01,\n",
       "        -2.8207e-01, -2.1124e-01, -3.8037e-01,  5.0595e-01, -2.3402e-01,\n",
       "         3.9700e-01,  3.3881e-01,  3.4063e-01,  5.4901e-01,  6.0589e-03,\n",
       "        -3.2924e-01, -2.1518e-01,  2.8385e-01,  2.6296e-02,  5.4774e-01,\n",
       "        -5.2363e-01,  3.8973e-01,  1.9321e-01, -2.4227e-01, -5.2056e-01,\n",
       "        -4.4525e-01, -2.8845e-01, -3.8041e-01,  8.2646e-02,  3.3862e-01,\n",
       "         3.4322e-01, -4.4412e-01,  3.1770e-02,  3.4585e-01,  1.8332e-01,\n",
       "         7.8772e-02,  1.6246e-01,  1.0525e-01,  5.5264e-01,  2.6130e-01,\n",
       "        -5.1454e-01,  1.4568e-02,  6.4210e-01, -5.4957e-01, -2.5705e-01,\n",
       "         2.4895e-01,  3.7981e-02,  3.1559e-01, -8.2609e-01, -5.7770e-02,\n",
       "         1.7696e-01, -5.7684e-01,  8.8864e-02,  2.4956e-01,  1.0186e-01,\n",
       "        -4.4818e-02, -1.3929e-01,  3.9397e-01, -2.9416e-01, -2.7203e-01,\n",
       "         1.1465e-01, -6.8012e-01, -2.0359e-01, -1.6975e-01,  1.5801e-02,\n",
       "        -3.3822e-02,  2.2161e-01,  1.9973e-01,  1.1942e-02, -5.5767e-01,\n",
       "         1.8387e-02,  3.6346e-01, -3.9895e-01, -5.4927e-01,  7.6879e-02,\n",
       "        -1.1568e-01,  5.2497e-01,  6.7205e-01,  3.7207e-01, -1.1367e-01,\n",
       "         5.8743e-03, -4.3402e-01, -6.3284e-01, -4.5141e-01,  2.4959e-01,\n",
       "         2.4029e-01, -1.3787e-01, -7.4959e-02, -4.3694e-01,  5.8525e-02,\n",
       "         6.6864e-01,  6.2770e-01,  7.4577e-02,  4.2492e-01, -7.9765e-03,\n",
       "         1.1240e-01, -2.6645e-01, -7.3189e-01,  4.5690e-01, -2.7780e-01,\n",
       "        -5.9233e-02,  1.5167e-01, -3.6000e-01,  2.6920e-01,  2.6658e-01,\n",
       "        -1.4300e-01,  4.3004e-01,  1.6236e-01, -3.0862e-01, -2.2884e-02,\n",
       "        -6.9794e-01,  3.4973e-01, -4.2267e-01, -2.1382e-01,  1.8449e-01,\n",
       "         6.5723e-01, -7.5102e-06, -3.7780e-01,  9.5025e-02, -7.0958e-01,\n",
       "        -7.1898e-01,  8.5667e-01,  7.3424e-01,  4.1095e-01, -3.7730e-01])"
      ]
     },
     "execution_count": 99,
     "metadata": {},
     "output_type": "execute_result"
    }
   ],
   "source": [
    "latent_vectors['the']"
   ]
  },
  {
   "cell_type": "markdown",
   "id": "honest-mount",
   "metadata": {},
   "source": [
    "# Save Model & Embeddings"
   ]
  },
  {
   "cell_type": "code",
   "execution_count": 100,
   "id": "political-eclipse",
   "metadata": {},
   "outputs": [],
   "source": [
    "torch.save(model.state_dict(), f\"models/{experiment_name}.pt\")"
   ]
  },
  {
   "cell_type": "code",
   "execution_count": 101,
   "id": "blond-refrigerator",
   "metadata": {},
   "outputs": [
    {
     "name": "stderr",
     "output_type": "stream",
     "text": [
      "400000it [00:42, 9477.42it/s]\n"
     ]
    }
   ],
   "source": [
    "# Need to convert the latent embeddings into the glove format\n",
    "# word dim1 dim2 dim3 dim4 ... dimX\n",
    "lines = []\n",
    "for i, (word, vector) in tqdm(enumerate(latent_vectors.items())):\n",
    "    line = [word] + [str(x) for x in vector.tolist()]\n",
    "    lines.append(' '.join(line))"
   ]
  },
  {
   "cell_type": "code",
   "execution_count": 102,
   "id": "wooden-conservative",
   "metadata": {},
   "outputs": [],
   "source": [
    "with open(f\"data/embeddings/trained/{experiment_name}.glove.6B.300d.txt\", \"w\", encoding=\"utf-8\") as fp:\n",
    "    fp.write(\"\\n\".join(lines))"
   ]
  },
  {
   "cell_type": "code",
   "execution_count": null,
   "id": "desperate-desire",
   "metadata": {},
   "outputs": [],
   "source": []
  }
 ],
 "metadata": {
  "kernelspec": {
   "display_name": "Python 3",
   "language": "python",
   "name": "python3"
  },
  "language_info": {
   "codemirror_mode": {
    "name": "ipython",
    "version": 3
   },
   "file_extension": ".py",
   "mimetype": "text/x-python",
   "name": "python",
   "nbconvert_exporter": "python",
   "pygments_lexer": "ipython3",
   "version": "3.8.7"
  }
 },
 "nbformat": 4,
 "nbformat_minor": 5
}
