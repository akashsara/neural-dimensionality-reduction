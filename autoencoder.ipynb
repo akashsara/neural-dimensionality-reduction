{
 "cells": [
  {
   "cell_type": "code",
   "execution_count": 1,
   "id": "naked-coast",
   "metadata": {},
   "outputs": [],
   "source": [
    "import numpy as np\n",
    "\n",
    "import torch\n",
    "import torch.nn as nn\n",
    "import torch.nn.functional as F\n",
    "import torch.optim as optim"
   ]
  },
  {
   "cell_type": "code",
   "execution_count": 2,
   "id": "desirable-friend",
   "metadata": {},
   "outputs": [],
   "source": [
    "from sklearn.model_selection import train_test_split\n",
    "from tqdm import tqdm"
   ]
  },
  {
   "cell_type": "code",
   "execution_count": 3,
   "id": "stopped-keyboard",
   "metadata": {},
   "outputs": [],
   "source": [
    "seed = 42\n",
    "torch.manual_seed(seed)\n",
    "np.random.seed(seed)"
   ]
  },
  {
   "cell_type": "markdown",
   "id": "incoming-union",
   "metadata": {},
   "source": [
    "# Config"
   ]
  },
  {
   "cell_type": "code",
   "execution_count": 52,
   "id": "japanese-surfing",
   "metadata": {},
   "outputs": [],
   "source": [
    "test_split = 0.05\n",
    "validation_split = 0.05\n",
    "learning_rate = 1e-3\n",
    "input_size = 300\n",
    "hidden_size = 225\n",
    "bottleneck_size = 200\n",
    "epochs = 5\n",
    "batch_size = 128\n",
    "use_hidden_layer = False\n",
    "denoising = True\n",
    "experiment_name = \"autoencoder_300to200_v2\"\n",
    "dataset = \"data/embeddings/base/clipped.glove.6B.300d.txt\""
   ]
  },
  {
   "cell_type": "code",
   "execution_count": 53,
   "id": "killing-aquatic",
   "metadata": {},
   "outputs": [],
   "source": [
    "gpu = torch.cuda.is_available()\n",
    "device = torch.device(\"cuda\" if gpu else \"cpu\")"
   ]
  },
  {
   "cell_type": "code",
   "execution_count": 54,
   "id": "clinical-solution",
   "metadata": {},
   "outputs": [
    {
     "name": "stdout",
     "output_type": "stream",
     "text": [
      "False cpu\n"
     ]
    }
   ],
   "source": [
    "print(gpu, device)"
   ]
  },
  {
   "cell_type": "markdown",
   "id": "hollow-browser",
   "metadata": {},
   "source": [
    "# Load & Prepare Embeddings for Training"
   ]
  },
  {
   "cell_type": "code",
   "execution_count": 7,
   "id": "surprising-antique",
   "metadata": {},
   "outputs": [],
   "source": [
    "words = []\n",
    "vectors = []\n",
    "with open(dataset, \"r\", encoding='utf8') as fp:\n",
    "    for line in fp:\n",
    "        line = line.split()\n",
    "        word = line[0]\n",
    "        vector = np.asarray(line[1:], 'float32')\n",
    "        words.append(word)\n",
    "        vectors.append(vector)\n",
    "vectors = torch.from_numpy(np.asarray(vectors))"
   ]
  },
  {
   "cell_type": "code",
   "execution_count": 8,
   "id": "current-catering",
   "metadata": {},
   "outputs": [],
   "source": [
    "test_split = int(test_split * len(words))\n",
    "validation_split = int(validation_split* len(words))"
   ]
  },
  {
   "cell_type": "code",
   "execution_count": 9,
   "id": "civilian-motion",
   "metadata": {},
   "outputs": [
    {
     "name": "stdout",
     "output_type": "stream",
     "text": [
      "400000 torch.Size([400000, 300])\n",
      "20000 20000\n"
     ]
    }
   ],
   "source": [
    "print(len(words), vectors.shape)\n",
    "print(test_split, validation_split)"
   ]
  },
  {
   "cell_type": "code",
   "execution_count": 10,
   "id": "patient-grass",
   "metadata": {},
   "outputs": [],
   "source": [
    "train_vectors, test_vectors, train_words, test_words = train_test_split(\n",
    "    vectors, words, test_size=test_split, random_state=seed\n",
    ")"
   ]
  },
  {
   "cell_type": "code",
   "execution_count": 11,
   "id": "other-bryan",
   "metadata": {},
   "outputs": [],
   "source": [
    "train_vectors, validation_vectors, train_words, validation_words = train_test_split(\n",
    "    train_vectors, train_words, test_size=validation_split, random_state=seed\n",
    ")"
   ]
  },
  {
   "cell_type": "code",
   "execution_count": 12,
   "id": "falling-toddler",
   "metadata": {},
   "outputs": [
    {
     "data": {
      "text/plain": [
       "(torch.Size([360000, 300]), torch.Size([20000, 300]), torch.Size([20000, 300]))"
      ]
     },
     "execution_count": 12,
     "metadata": {},
     "output_type": "execute_result"
    }
   ],
   "source": [
    "train_vectors.shape, validation_vectors.shape, test_vectors.shape"
   ]
  },
  {
   "cell_type": "code",
   "execution_count": 13,
   "id": "specified-gentleman",
   "metadata": {},
   "outputs": [
    {
     "data": {
      "text/plain": [
       "(360000, 20000, 20000)"
      ]
     },
     "execution_count": 13,
     "metadata": {},
     "output_type": "execute_result"
    }
   ],
   "source": [
    "# Note: We don't actually use these words since the model doesn't care about them.\n",
    "# We just compute them in case we want to check some particular word or something.\n",
    "len(train_words), len(validation_words), len(test_words)"
   ]
  },
  {
   "cell_type": "code",
   "execution_count": 55,
   "id": "animal-lafayette",
   "metadata": {},
   "outputs": [],
   "source": [
    "train_dataloader = torch.utils.data.DataLoader(\n",
    "    train_vectors, batch_size=batch_size, shuffle=True, num_workers=4, pin_memory=gpu\n",
    ")\n",
    "validation_dataloader = torch.utils.data.DataLoader(\n",
    "    validation_vectors, batch_size=batch_size, shuffle=True, num_workers=4, pin_memory=gpu\n",
    ")\n",
    "test_dataloader = torch.utils.data.DataLoader(\n",
    "    test_vectors, batch_size=batch_size, shuffle=True, num_workers=4, pin_memory=gpu\n",
    ")"
   ]
  },
  {
   "cell_type": "markdown",
   "id": "advance-peeing",
   "metadata": {},
   "source": [
    "# Model Time"
   ]
  },
  {
   "cell_type": "code",
   "execution_count": 56,
   "id": "latin-summary",
   "metadata": {},
   "outputs": [],
   "source": [
    "class AutoEncoderWithoutHiddenLayer(nn.Module):\n",
    "    def __init__(self, input_size, bottleneck_size):\n",
    "        super().__init__()\n",
    "        self.encoder = nn.Linear(in_features=input_size, out_features=bottleneck_size)\n",
    "        self.encoder_activation = nn.Tanh()\n",
    "        \n",
    "        self.decoder = nn.Linear(in_features=bottleneck_size, out_features=input_size)\n",
    "        self.decoder_activation = nn.Tanh()\n",
    "        \n",
    "        self.decoder.weight = nn.Parameter(self.encoder.weight.transpose(0,1))\n",
    "    \n",
    "    def forward(self, features):\n",
    "        latent_representation = self.encoder_activation(self.encoder(features))\n",
    "        reconstructed_input = self.decoder_activation(self.decoder(latent_representation))\n",
    "        return reconstructed_input\n",
    "    \n",
    "    def encode(self, features):\n",
    "        return self.encoder_activation(self.encoder(features))"
   ]
  },
  {
   "cell_type": "code",
   "execution_count": 57,
   "id": "small-concern",
   "metadata": {},
   "outputs": [],
   "source": [
    "class AutoEncoderWithHiddenLayer(nn.Module):\n",
    "    def __init__(self, input_size, hidden_size, bottleneck_size):\n",
    "        super().__init__()\n",
    "        self.encoder_input = nn.Linear(in_features=input_size, out_features=hidden_size)\n",
    "        self.encoder_input_activation = nn.ReLU(True)\n",
    "        self.encoder_hidden = nn.Linear(in_features=hidden_size, out_features=bottleneck_size)\n",
    "        self.encoder_hidden_activation = nn.Tanh()\n",
    "        \n",
    "        self.decoder_hidden = nn.Linear(in_features=bottleneck_size, out_features=hidden_size)\n",
    "        self.decoder_hidden_activation = nn.ReLU(True)\n",
    "        self.decoder_output = nn.Linear(in_features=hidden_size, out_features=input_size)\n",
    "        self.decoder_output_activation = nn.Tanh()\n",
    "        \n",
    "        self.decoder_hidden.weight = nn.Parameter(self.encoder_hidden.weight.transpose(0,1))\n",
    "        self.decoder_output.weight = nn.Parameter(self.encoder_input.weight.transpose(0,1))\n",
    "        \n",
    "        self.encoder = [\n",
    "            self.encoder_input, self.encoder_input_activation, self.encoder_hidden, self.encoder_hidden_activation\n",
    "        ]\n",
    "        self.decoder = [\n",
    "            self.decoder_hidden, self.decoder_hidden_activation, self.decoder_output, self.decoder_output_activation\n",
    "        ]\n",
    "    \n",
    "    def forward(self, features):\n",
    "        # Encoder\n",
    "        for layer in self.encoder:\n",
    "            features = layer(features)\n",
    "        # Decoder\n",
    "        for layer in self.decoder:\n",
    "            features = layer(features)\n",
    "        return features\n",
    "    \n",
    "    def encode(self, features):\n",
    "        for layer in self.encoder:\n",
    "            features = layer(features)\n",
    "        return features"
   ]
  },
  {
   "cell_type": "code",
   "execution_count": 58,
   "id": "quarterly-script",
   "metadata": {},
   "outputs": [],
   "source": [
    "if use_hidden_layer:\n",
    "    model = AutoEncoderWithHiddenLayer(input_size, hidden_size, bottleneck_size).to(device)\n",
    "else:\n",
    "    model = AutoEncoderWithoutHiddenLayer(input_size, bottleneck_size).to(device)\n",
    "optimizer = optim.Adam(model.parameters(), lr=learning_rate)\n",
    "criterion = nn.MSELoss()"
   ]
  },
  {
   "cell_type": "code",
   "execution_count": 59,
   "id": "referenced-london",
   "metadata": {},
   "outputs": [
    {
     "data": {
      "text/plain": [
       "AutoEncoderWithoutHiddenLayer(\n",
       "  (encoder): Linear(in_features=300, out_features=200, bias=True)\n",
       "  (encoder_activation): Tanh()\n",
       "  (decoder): Linear(in_features=200, out_features=300, bias=True)\n",
       "  (decoder_activation): Tanh()\n",
       ")"
      ]
     },
     "execution_count": 59,
     "metadata": {},
     "output_type": "execute_result"
    }
   ],
   "source": [
    "model"
   ]
  },
  {
   "cell_type": "code",
   "execution_count": 60,
   "id": "individual-xerox",
   "metadata": {},
   "outputs": [
    {
     "name": "stderr",
     "output_type": "stream",
     "text": [
      "100%|█████████████████████████████████████████████████████████████████████████████| 2813/2813 [00:12<00:00, 225.80it/s]\n",
      "100%|███████████████████████████████████████████████████████████████████████████████| 157/157 [00:00<00:00, 157.44it/s]\n",
      "  0%|                                                                                         | 0/2813 [00:00<?, ?it/s]"
     ]
    },
    {
     "name": "stdout",
     "output_type": "stream",
     "text": [
      "Epoch: 1/5, Train Reconstruction Loss = 0.11352380897506802,         Validation Reconstruction Loss = 0.08517283495444401\n"
     ]
    },
    {
     "name": "stderr",
     "output_type": "stream",
     "text": [
      "100%|█████████████████████████████████████████████████████████████████████████████| 2813/2813 [00:12<00:00, 228.30it/s]\n",
      "100%|███████████████████████████████████████████████████████████████████████████████| 157/157 [00:00<00:00, 159.29it/s]\n",
      "  0%|                                                                                         | 0/2813 [00:00<?, ?it/s]"
     ]
    },
    {
     "name": "stdout",
     "output_type": "stream",
     "text": [
      "Epoch: 2/5, Train Reconstruction Loss = 0.11308554488698062,         Validation Reconstruction Loss = 0.08506235428107013\n"
     ]
    },
    {
     "name": "stderr",
     "output_type": "stream",
     "text": [
      "100%|█████████████████████████████████████████████████████████████████████████████| 2813/2813 [00:12<00:00, 229.09it/s]\n",
      "100%|███████████████████████████████████████████████████████████████████████████████| 157/157 [00:01<00:00, 138.91it/s]\n",
      "  0%|                                                                                         | 0/2813 [00:00<?, ?it/s]"
     ]
    },
    {
     "name": "stdout",
     "output_type": "stream",
     "text": [
      "Epoch: 3/5, Train Reconstruction Loss = 0.11305423933513385,         Validation Reconstruction Loss = 0.08547512783556227\n"
     ]
    },
    {
     "name": "stderr",
     "output_type": "stream",
     "text": [
      "100%|█████████████████████████████████████████████████████████████████████████████| 2813/2813 [00:12<00:00, 227.28it/s]\n",
      "100%|███████████████████████████████████████████████████████████████████████████████| 157/157 [00:00<00:00, 158.07it/s]\n",
      "  0%|                                                                                         | 0/2813 [00:00<?, ?it/s]"
     ]
    },
    {
     "name": "stdout",
     "output_type": "stream",
     "text": [
      "Epoch: 4/5, Train Reconstruction Loss = 0.11302302716583956,         Validation Reconstruction Loss = 0.084906534831615\n"
     ]
    },
    {
     "name": "stderr",
     "output_type": "stream",
     "text": [
      "100%|█████████████████████████████████████████████████████████████████████████████| 2813/2813 [00:12<00:00, 228.02it/s]\n",
      "100%|███████████████████████████████████████████████████████████████████████████████| 157/157 [00:00<00:00, 158.23it/s]"
     ]
    },
    {
     "name": "stdout",
     "output_type": "stream",
     "text": [
      "Epoch: 5/5, Train Reconstruction Loss = 0.11303879632894313,         Validation Reconstruction Loss = 0.08527829948883907\n"
     ]
    },
    {
     "name": "stderr",
     "output_type": "stream",
     "text": [
      "\n"
     ]
    }
   ],
   "source": [
    "for epoch in range(epochs):\n",
    "    train_loss = 0\n",
    "    validation_loss = 0\n",
    "    \n",
    "    # Training Loop\n",
    "    for iteration, batch in enumerate(tqdm(train_dataloader)):\n",
    "        # Reset gradients back to zero for this iteration\n",
    "        optimizer.zero_grad()\n",
    "        \n",
    "        if denoising:\n",
    "            # Add noise to our inputs\n",
    "            noise = torch.randn(batch.shape)\n",
    "            noisy_batch = torch.clamp(batch + noise, -1, +1)\n",
    "            \n",
    "            # Move batch to device\n",
    "            noisy_batch = noisy_batch.to(device)\n",
    "\n",
    "            # Run our model & get outputs\n",
    "            outputs = model(noisy_batch)\n",
    "        else:\n",
    "            # Move batch to device\n",
    "            batch = batch.to(device)\n",
    "\n",
    "            # Run our model & get outputs\n",
    "            outputs = model(batch)\n",
    "            \n",
    "        # Calculate reconstruction loss\n",
    "        batch_loss = criterion(outputs, batch)\n",
    "                  \n",
    "        # Backprop\n",
    "        batch_loss.backward()\n",
    "        \n",
    "        # Update our optimizer parameters\n",
    "        optimizer.step()\n",
    "        \n",
    "        # Add the batch's loss to the total loss for the epoch\n",
    "        train_loss += batch_loss.item()\n",
    "        \n",
    "    # Validation Loop\n",
    "    with torch.no_grad():\n",
    "        for iteration, batch in enumerate(tqdm(validation_dataloader)):\n",
    "            # Move batch to device\n",
    "            batch = batch.to(device)\n",
    "\n",
    "            # Run our model & get outputs\n",
    "            outputs = model(batch)\n",
    "\n",
    "            # Calculate reconstruction loss\n",
    "            batch_loss = criterion(outputs, batch)\n",
    "\n",
    "            # Add the batch's loss to the total loss for the epoch\n",
    "            validation_loss += batch_loss.item()\n",
    "    \n",
    "    # Compute the average losses for this epoch\n",
    "    train_loss = train_loss / len(train_dataloader)\n",
    "    validation_loss = validation_loss / len(validation_dataloader)\n",
    "    \n",
    "    # Print Metrics\n",
    "    print(\n",
    "        f\"Epoch: {epoch+1}/{epochs}, Train Reconstruction Loss = {train_loss}, \\\n",
    "        Validation Reconstruction Loss = {validation_loss}\"\n",
    "    )"
   ]
  },
  {
   "cell_type": "markdown",
   "id": "respective-kingston",
   "metadata": {},
   "source": [
    "# Test Model"
   ]
  },
  {
   "cell_type": "code",
   "execution_count": 61,
   "id": "flexible-roots",
   "metadata": {},
   "outputs": [
    {
     "data": {
      "text/plain": [
       "AutoEncoderWithoutHiddenLayer(\n",
       "  (encoder): Linear(in_features=300, out_features=200, bias=True)\n",
       "  (encoder_activation): Tanh()\n",
       "  (decoder): Linear(in_features=200, out_features=300, bias=True)\n",
       "  (decoder_activation): Tanh()\n",
       ")"
      ]
     },
     "execution_count": 61,
     "metadata": {},
     "output_type": "execute_result"
    }
   ],
   "source": [
    "model.eval()"
   ]
  },
  {
   "cell_type": "code",
   "execution_count": 62,
   "id": "governing-rates",
   "metadata": {},
   "outputs": [
    {
     "name": "stderr",
     "output_type": "stream",
     "text": [
      "100%|███████████████████████████████████████████████████████████████████████████████| 157/157 [00:01<00:00, 153.74it/s]"
     ]
    },
    {
     "name": "stdout",
     "output_type": "stream",
     "text": [
      "Test Reconstruction Loss = 0.08506599647603977\n"
     ]
    },
    {
     "name": "stderr",
     "output_type": "stream",
     "text": [
      "\n"
     ]
    }
   ],
   "source": [
    "reconstruction_loss = 0\n",
    "\n",
    "# Testing Loop\n",
    "with torch.no_grad():\n",
    "    for iteration, batch in enumerate(tqdm(test_dataloader)):\n",
    "        # Move batch to device\n",
    "        batch = batch.to(device)\n",
    "        \n",
    "        # Run our model & get outputs\n",
    "        outputs = model(batch)\n",
    "\n",
    "        # Calculate reconstruction loss\n",
    "        batch_loss = criterion(outputs, batch)\n",
    "\n",
    "        # Add the batch's loss to the total loss for the epoch\n",
    "        reconstruction_loss += batch_loss.item()\n",
    "\n",
    "# Compute the average losses for this epoch\n",
    "reconstruction_loss = reconstruction_loss / len(test_dataloader)\n",
    "\n",
    "# Print Metrics\n",
    "print(\n",
    "    f\"Test Reconstruction Loss = {reconstruction_loss}\"\n",
    ")"
   ]
  },
  {
   "cell_type": "markdown",
   "id": "imported-stanley",
   "metadata": {},
   "source": [
    "# Generate Latent Embeddings"
   ]
  },
  {
   "cell_type": "code",
   "execution_count": 63,
   "id": "sophisticated-version",
   "metadata": {},
   "outputs": [
    {
     "name": "stderr",
     "output_type": "stream",
     "text": [
      "400000it [00:19, 20004.54it/s]\n"
     ]
    }
   ],
   "source": [
    "latent_vectors = {}\n",
    "with torch.no_grad():\n",
    "    for i, (word, vector) in enumerate(tqdm(zip(words, vectors))):\n",
    "        latent_vectors[word] = model.encode(vector)"
   ]
  },
  {
   "cell_type": "code",
   "execution_count": 64,
   "id": "inside-handling",
   "metadata": {
    "scrolled": true
   },
   "outputs": [
    {
     "data": {
      "text/plain": [
       "400000"
      ]
     },
     "execution_count": 64,
     "metadata": {},
     "output_type": "execute_result"
    }
   ],
   "source": [
    "len(latent_vectors)"
   ]
  },
  {
   "cell_type": "code",
   "execution_count": 65,
   "id": "suited-projector",
   "metadata": {},
   "outputs": [
    {
     "data": {
      "text/plain": [
       "tensor([-5.9412e-02,  5.8080e-02,  7.8171e-02, -6.7203e-02, -1.9439e-01,\n",
       "        -5.8522e-02,  1.9077e-01, -9.1857e-02, -2.6136e-02, -2.2030e-01,\n",
       "         5.4154e-02,  1.1263e-01,  9.7602e-01,  2.1195e-01, -3.5939e-02,\n",
       "         5.1026e-02,  9.1576e-02,  3.6884e-02,  2.2810e-02, -1.6704e-02,\n",
       "        -9.7355e-02,  1.7112e-01,  7.1116e-02, -2.9789e-01, -9.5616e-04,\n",
       "        -1.7079e-01, -1.2019e-01,  2.7641e-01, -9.1226e-03, -6.0054e-01,\n",
       "        -9.7913e-02, -9.3085e-02, -2.3570e-01,  2.9613e-02,  5.1035e-02,\n",
       "        -1.0977e-01, -2.1756e-02,  1.7778e-03, -4.1988e-02, -1.5805e-01,\n",
       "        -1.3762e-01, -4.4904e-01, -7.5584e-02, -4.6367e-02, -8.8341e-02,\n",
       "         4.2866e-02,  4.1189e-02, -1.1010e-02,  3.6080e-02,  3.3598e-02,\n",
       "         4.3671e-02,  1.8183e-01,  9.3230e-02,  1.7387e-01,  4.2324e-02,\n",
       "        -6.1247e-02,  1.9069e-01, -6.1776e-02, -1.1885e-01,  1.4381e-01,\n",
       "        -2.8281e-01, -1.2407e-02, -1.9807e-01,  1.4388e-01, -2.4034e-01,\n",
       "        -2.4540e-01, -1.3305e-01, -1.2210e-01, -1.0907e-01, -1.0318e-02,\n",
       "        -1.1354e-01, -1.8673e-01,  1.5763e-01,  2.7084e-01,  1.2835e-01,\n",
       "        -8.6535e-02,  2.6802e-01, -1.2380e-01,  2.0253e-01, -1.9324e-01,\n",
       "        -2.2933e-01,  7.8214e-02, -1.5703e-01, -8.1189e-02,  1.9377e-01,\n",
       "        -1.5532e-01,  4.4776e-02,  1.7018e-01, -1.4433e-01, -1.6050e-01,\n",
       "         9.3976e-02,  2.4653e-01, -9.3883e-02,  2.7437e-03,  2.2629e-01,\n",
       "         1.0833e-01,  8.8151e-02,  1.1392e-01, -6.7906e-02, -2.7025e-01,\n",
       "         2.2319e-02,  3.2087e-01,  4.9352e-02,  1.5046e-01,  1.7794e-01,\n",
       "        -4.8196e-02, -6.6691e-02,  1.9402e-01, -1.3004e-01,  5.0327e-02,\n",
       "         9.1317e-02, -8.0203e-01,  3.3830e-01,  1.8625e-01,  5.6895e-02,\n",
       "         1.0110e-01, -1.3376e-01, -1.2897e-01, -1.2465e-01,  1.7234e-02,\n",
       "         2.7839e-01,  2.8584e-01, -1.5282e-01,  6.5110e-02, -8.6993e-03,\n",
       "        -2.5447e-01, -1.4381e-01, -1.3911e-01, -2.8557e-02, -5.2061e-02,\n",
       "        -1.3356e-01,  9.9562e-01,  3.0923e-01,  1.0852e-02, -6.5408e-02,\n",
       "        -8.6035e-02, -2.5291e-01,  6.0008e-02,  1.2515e-01, -3.8266e-02,\n",
       "        -2.9527e-02, -6.6524e-02, -9.1926e-02, -2.1271e-01,  2.9610e-02,\n",
       "         7.5555e-02, -1.0052e-01, -5.3074e-02, -1.0311e-01, -7.3703e-03,\n",
       "        -2.5705e-01, -8.4433e-02,  4.0026e-02,  1.1074e-01, -1.5836e-02,\n",
       "         8.3707e-02, -1.5566e-01, -1.2931e-02,  1.8936e-02,  3.8821e-02,\n",
       "         3.2191e-04, -2.7028e-01, -1.4525e-01,  3.4559e-01, -1.4866e-03,\n",
       "        -8.4654e-02,  2.4642e-01,  1.0877e-01,  2.6877e-02, -1.7428e-01,\n",
       "        -4.5620e-03, -3.3105e-01, -1.9675e-01,  4.0600e-02,  2.6280e-01,\n",
       "        -1.0606e-01, -4.8485e-02,  1.1328e-01, -1.9000e-01, -7.8585e-02,\n",
       "         1.2159e-01, -1.9636e-01,  8.0581e-02,  1.9847e-02, -7.5174e-02,\n",
       "         5.0622e-02, -4.6676e-02, -1.6704e-01,  2.4181e-02, -1.9272e-02,\n",
       "         1.2070e-02,  2.5134e-04, -2.7140e-02,  2.1808e-01,  6.3196e-02,\n",
       "        -3.3797e-02,  1.7133e-01, -1.6574e-01,  4.5437e-02,  5.6672e-02])"
      ]
     },
     "execution_count": 65,
     "metadata": {},
     "output_type": "execute_result"
    }
   ],
   "source": [
    "latent_vectors['the']"
   ]
  },
  {
   "cell_type": "markdown",
   "id": "honest-mount",
   "metadata": {},
   "source": [
    "# Save Model & Embeddings"
   ]
  },
  {
   "cell_type": "code",
   "execution_count": 66,
   "id": "political-eclipse",
   "metadata": {},
   "outputs": [],
   "source": [
    "torch.save(model.state_dict(), f\"models/{experiment_name}.pt\")"
   ]
  },
  {
   "cell_type": "code",
   "execution_count": 67,
   "id": "blond-refrigerator",
   "metadata": {},
   "outputs": [
    {
     "name": "stderr",
     "output_type": "stream",
     "text": [
      "400000it [00:58, 6865.85it/s]\n"
     ]
    }
   ],
   "source": [
    "# Need to convert the latent embeddings into the glove format\n",
    "# word dim1 dim2 dim3 dim4 ... dimX\n",
    "lines = []\n",
    "for i, (word, vector) in tqdm(enumerate(latent_vectors.items())):\n",
    "    line = [word] + [str(x) for x in vector.tolist()]\n",
    "    lines.append(' '.join(line))"
   ]
  },
  {
   "cell_type": "code",
   "execution_count": 68,
   "id": "wooden-conservative",
   "metadata": {},
   "outputs": [],
   "source": [
    "with open(f\"data/embeddings/trained/{experiment_name}.glove.6B.300d.txt\", \"w\", encoding=\"utf-8\") as fp:\n",
    "    fp.write(\"\\n\".join(lines))"
   ]
  },
  {
   "cell_type": "code",
   "execution_count": null,
   "id": "desperate-desire",
   "metadata": {},
   "outputs": [],
   "source": []
  }
 ],
 "metadata": {
  "kernelspec": {
   "display_name": "Python 3",
   "language": "python",
   "name": "python3"
  },
  "language_info": {
   "codemirror_mode": {
    "name": "ipython",
    "version": 3
   },
   "file_extension": ".py",
   "mimetype": "text/x-python",
   "name": "python",
   "nbconvert_exporter": "python",
   "pygments_lexer": "ipython3",
   "version": "3.8.7"
  }
 },
 "nbformat": 4,
 "nbformat_minor": 5
}
