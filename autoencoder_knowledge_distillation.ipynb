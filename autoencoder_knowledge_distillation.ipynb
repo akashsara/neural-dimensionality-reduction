{
 "cells": [
  {
   "cell_type": "code",
   "execution_count": 1,
   "id": "naked-coast",
   "metadata": {},
   "outputs": [],
   "source": [
    "import numpy as np\n",
    "\n",
    "import torch\n",
    "import torch.nn as nn\n",
    "import torch.nn.functional as F\n",
    "import torch.optim as optim"
   ]
  },
  {
   "cell_type": "code",
   "execution_count": 2,
   "id": "desirable-friend",
   "metadata": {},
   "outputs": [],
   "source": [
    "from sklearn.model_selection import train_test_split\n",
    "from tqdm import tqdm"
   ]
  },
  {
   "cell_type": "code",
   "execution_count": 3,
   "id": "stopped-keyboard",
   "metadata": {},
   "outputs": [],
   "source": [
    "seed = 42\n",
    "torch.manual_seed(seed)\n",
    "np.random.seed(seed)"
   ]
  },
  {
   "cell_type": "markdown",
   "id": "incoming-union",
   "metadata": {},
   "source": [
    "# Config"
   ]
  },
  {
   "cell_type": "code",
   "execution_count": 4,
   "id": "japanese-surfing",
   "metadata": {},
   "outputs": [],
   "source": [
    "test_split = 0.05\n",
    "validation_split = 0.05\n",
    "\n",
    "learning_rate = 1e-3\n",
    "epochs = 5\n",
    "batch_size = 128\n",
    "\n",
    "input_size = 300\n",
    "bottleneck_size = 200\n",
    "\n",
    "alpha = 1 # How much the teacher should influence the latent representation\n",
    "\n",
    "experiment_name = f\"autoencoder_{input_size}to{bottleneck_size}_v4\"\n",
    "dataset = f\"data/embeddings/base/clipped.glove.6B.{input_size}d.txt\"\n",
    "teacher_dataset = f\"data/embeddings/base/clipped.glove.6B.{bottleneck_size}d.txt\""
   ]
  },
  {
   "cell_type": "code",
   "execution_count": 5,
   "id": "killing-aquatic",
   "metadata": {},
   "outputs": [],
   "source": [
    "gpu = torch.cuda.is_available()\n",
    "device = torch.device(\"cuda\" if gpu else \"cpu\")"
   ]
  },
  {
   "cell_type": "code",
   "execution_count": 6,
   "id": "clinical-solution",
   "metadata": {},
   "outputs": [
    {
     "name": "stdout",
     "output_type": "stream",
     "text": [
      "False cpu\n"
     ]
    }
   ],
   "source": [
    "print(gpu, device)"
   ]
  },
  {
   "cell_type": "markdown",
   "id": "hollow-browser",
   "metadata": {},
   "source": [
    "# Load & Prepare Embeddings for Training"
   ]
  },
  {
   "cell_type": "code",
   "execution_count": 8,
   "id": "guilty-result",
   "metadata": {},
   "outputs": [],
   "source": [
    "def load_embeddings(dataset):\n",
    "    words = []\n",
    "    vectors = []\n",
    "    with open(dataset, \"r\", encoding='utf8') as fp:\n",
    "        for line in fp:\n",
    "            line = line.split()\n",
    "            word = line[0]\n",
    "            vector = np.asarray(line[1:], 'float32')\n",
    "            words.append(word)\n",
    "            vectors.append(vector)\n",
    "    vectors = torch.as_tensor(vectors)\n",
    "    return words, vectors"
   ]
  },
  {
   "cell_type": "code",
   "execution_count": 9,
   "id": "surprising-antique",
   "metadata": {},
   "outputs": [],
   "source": [
    "input_words, input_vectors = load_embeddings(dataset)"
   ]
  },
  {
   "cell_type": "code",
   "execution_count": 10,
   "id": "acceptable-surprise",
   "metadata": {},
   "outputs": [],
   "source": [
    "teacher_words, teacher_vectors = load_embeddings(teacher_dataset)"
   ]
  },
  {
   "cell_type": "code",
   "execution_count": 11,
   "id": "current-catering",
   "metadata": {},
   "outputs": [],
   "source": [
    "test_split = int(test_split * len(input_words))\n",
    "validation_split = int(validation_split* len(input_words))"
   ]
  },
  {
   "cell_type": "code",
   "execution_count": 22,
   "id": "civilian-motion",
   "metadata": {},
   "outputs": [
    {
     "name": "stdout",
     "output_type": "stream",
     "text": [
      "400000 torch.Size([400000, 300])\n",
      "400000 torch.Size([400000, 200])\n",
      "20000 20000\n"
     ]
    }
   ],
   "source": [
    "print(len(input_words), input_vectors.shape)\n",
    "print(len(teacher_words), teacher_vectors.shape)\n",
    "print(test_split, validation_split)"
   ]
  },
  {
   "cell_type": "code",
   "execution_count": 23,
   "id": "breathing-ministry",
   "metadata": {},
   "outputs": [],
   "source": [
    "input_train_vectors, input_test_vectors, input_train_words, input_test_words = train_test_split(\n",
    "    input_vectors, input_words, test_size=test_split, random_state=seed\n",
    ")"
   ]
  },
  {
   "cell_type": "code",
   "execution_count": 24,
   "id": "known-twenty",
   "metadata": {},
   "outputs": [],
   "source": [
    "input_train_vectors, input_validation_vectors, input_train_words, input_validation_words = train_test_split(\n",
    "    input_train_vectors, input_train_words, test_size=test_split, random_state=seed\n",
    ")"
   ]
  },
  {
   "cell_type": "code",
   "execution_count": 25,
   "id": "patient-grass",
   "metadata": {},
   "outputs": [],
   "source": [
    "teacher_train_vectors, teacher_test_vectors, teacher_train_words, teacher_test_words = train_test_split(\n",
    "    teacher_vectors, teacher_words, test_size=test_split, random_state=seed\n",
    ")"
   ]
  },
  {
   "cell_type": "code",
   "execution_count": 26,
   "id": "other-bryan",
   "metadata": {},
   "outputs": [],
   "source": [
    "teacher_train_vectors, teacher_validation_vectors, teacher_train_words, teacher_validation_words = train_test_split(\n",
    "    teacher_train_vectors, teacher_train_words, test_size=validation_split, random_state=seed\n",
    ")"
   ]
  },
  {
   "cell_type": "code",
   "execution_count": 29,
   "id": "adopted-cover",
   "metadata": {},
   "outputs": [
    {
     "data": {
      "text/plain": [
       "(torch.Size([360000, 300]), torch.Size([20000, 300]), torch.Size([20000, 300]))"
      ]
     },
     "execution_count": 29,
     "metadata": {},
     "output_type": "execute_result"
    }
   ],
   "source": [
    "input_train_vectors.shape, input_validation_vectors.shape, input_test_vectors.shape"
   ]
  },
  {
   "cell_type": "code",
   "execution_count": 28,
   "id": "auburn-queens",
   "metadata": {},
   "outputs": [
    {
     "data": {
      "text/plain": [
       "(torch.Size([360000, 200]), torch.Size([20000, 200]), torch.Size([20000, 200]))"
      ]
     },
     "execution_count": 28,
     "metadata": {},
     "output_type": "execute_result"
    }
   ],
   "source": [
    "teacher_train_vectors.shape, teacher_validation_vectors.shape, teacher_test_vectors.shape"
   ]
  },
  {
   "cell_type": "code",
   "execution_count": 30,
   "id": "specified-gentleman",
   "metadata": {},
   "outputs": [
    {
     "data": {
      "text/plain": [
       "(360000, 20000, 20000)"
      ]
     },
     "execution_count": 30,
     "metadata": {},
     "output_type": "execute_result"
    }
   ],
   "source": [
    "# Note: We don't actually use these words since the model doesn't care about them.\n",
    "# We just compute them in case we want to check some particular word or something.\n",
    "len(input_train_words), len(input_validation_words), len(input_test_words)"
   ]
  },
  {
   "cell_type": "code",
   "execution_count": 31,
   "id": "eleven-grass",
   "metadata": {},
   "outputs": [],
   "source": [
    "train_dataset = torch.utils.data.TensorDataset(input_train_vectors, teacher_train_vectors)\n",
    "validation_dataset = torch.utils.data.TensorDataset(input_validation_vectors, teacher_validation_vectors)\n",
    "test_dataset = torch.utils.data.TensorDataset(input_test_vectors, teacher_test_vectors)"
   ]
  },
  {
   "cell_type": "code",
   "execution_count": 32,
   "id": "animal-lafayette",
   "metadata": {},
   "outputs": [],
   "source": [
    "train_dataloader = torch.utils.data.DataLoader(\n",
    "    train_dataset, batch_size=batch_size, shuffle=True, num_workers=4, pin_memory=gpu\n",
    ")\n",
    "validation_dataloader = torch.utils.data.DataLoader(\n",
    "    validation_dataset, batch_size=batch_size, shuffle=True, num_workers=4, pin_memory=gpu\n",
    ")\n",
    "test_dataloader = torch.utils.data.DataLoader(\n",
    "    test_dataset, batch_size=batch_size, shuffle=True, num_workers=4, pin_memory=gpu\n",
    ")"
   ]
  },
  {
   "cell_type": "markdown",
   "id": "advance-peeing",
   "metadata": {},
   "source": [
    "# Model Time"
   ]
  },
  {
   "cell_type": "code",
   "execution_count": 33,
   "id": "latin-summary",
   "metadata": {},
   "outputs": [],
   "source": [
    "class AutoEncoderWithoutHiddenLayer(nn.Module):\n",
    "    def __init__(self, input_size, bottleneck_size):\n",
    "        super().__init__()\n",
    "        self.encoder = nn.Linear(in_features=input_size, out_features=bottleneck_size)\n",
    "        self.encoder_activation = nn.Tanh()\n",
    "        \n",
    "        self.decoder = nn.Linear(in_features=bottleneck_size, out_features=input_size)\n",
    "        self.decoder_activation = nn.Tanh()\n",
    "        \n",
    "        self.decoder.weight = nn.Parameter(self.encoder.weight.transpose(0,1))\n",
    "    \n",
    "    def forward(self, features):\n",
    "        latent_representation = self.encoder_activation(self.encoder(features))\n",
    "        reconstructed_input = self.decoder_activation(self.decoder(latent_representation))\n",
    "        return reconstructed_input, latent_representation\n",
    "    \n",
    "    def encode(self, features):\n",
    "        return self.encoder_activation(self.encoder(features))"
   ]
  },
  {
   "cell_type": "code",
   "execution_count": 34,
   "id": "quarterly-script",
   "metadata": {},
   "outputs": [],
   "source": [
    "model = AutoEncoderWithoutHiddenLayer(input_size, bottleneck_size).to(device)\n",
    "optimizer = optim.Adam(model.parameters(), lr=learning_rate)\n",
    "criterion = nn.MSELoss()"
   ]
  },
  {
   "cell_type": "code",
   "execution_count": 35,
   "id": "referenced-london",
   "metadata": {},
   "outputs": [
    {
     "data": {
      "text/plain": [
       "AutoEncoderWithoutHiddenLayer(\n",
       "  (encoder): Linear(in_features=300, out_features=200, bias=True)\n",
       "  (encoder_activation): Tanh()\n",
       "  (decoder): Linear(in_features=200, out_features=300, bias=True)\n",
       "  (decoder_activation): Tanh()\n",
       ")"
      ]
     },
     "execution_count": 35,
     "metadata": {},
     "output_type": "execute_result"
    }
   ],
   "source": [
    "model"
   ]
  },
  {
   "cell_type": "code",
   "execution_count": 36,
   "id": "individual-xerox",
   "metadata": {
    "scrolled": false
   },
   "outputs": [
    {
     "name": "stderr",
     "output_type": "stream",
     "text": [
      "100%|█████████████████████████████████████████████████████████████████████████████| 2813/2813 [00:13<00:00, 212.18it/s]\n",
      "100%|███████████████████████████████████████████████████████████████████████████████| 157/157 [00:01<00:00, 129.62it/s]\n",
      "  0%|                                                                                         | 0/2813 [00:00<?, ?it/s]"
     ]
    },
    {
     "name": "stdout",
     "output_type": "stream",
     "text": [
      "Epoch: 1/5,         \n",
      "Train Reconstruction Loss = 0.06494576979522555 = 0.023195221450032815 + 0.04175054836836821,         \n",
      "Validation Reconstruction Loss = 0.05879058902430686 = 0.02140855298015722 + 0.03738203602042168\n"
     ]
    },
    {
     "name": "stderr",
     "output_type": "stream",
     "text": [
      "100%|█████████████████████████████████████████████████████████████████████████████| 2813/2813 [00:12<00:00, 229.68it/s]\n",
      "100%|███████████████████████████████████████████████████████████████████████████████| 157/157 [00:01<00:00, 140.15it/s]\n",
      "  0%|                                                                                         | 0/2813 [00:00<?, ?it/s]"
     ]
    },
    {
     "name": "stdout",
     "output_type": "stream",
     "text": [
      "Epoch: 2/5,         \n",
      "Train Reconstruction Loss = 0.058855424989034726 = 0.021528047710455824 + 0.0373273772242821,         \n",
      "Validation Reconstruction Loss = 0.05876534130827636 = 0.021567174310612072 + 0.03719816691461642\n"
     ]
    },
    {
     "name": "stderr",
     "output_type": "stream",
     "text": [
      "100%|█████████████████████████████████████████████████████████████████████████████| 2813/2813 [00:12<00:00, 226.53it/s]\n",
      "100%|███████████████████████████████████████████████████████████████████████████████| 157/157 [00:01<00:00, 144.77it/s]\n",
      "  0%|                                                                                         | 0/2813 [00:00<?, ?it/s]"
     ]
    },
    {
     "name": "stdout",
     "output_type": "stream",
     "text": [
      "Epoch: 3/5,         \n",
      "Train Reconstruction Loss = 0.05883989539004033 = 0.021569619803476537 + 0.037270275586563796,         \n",
      "Validation Reconstruction Loss = 0.05867983441159224 = 0.02155939209613071 + 0.037120442303597546\n"
     ]
    },
    {
     "name": "stderr",
     "output_type": "stream",
     "text": [
      "100%|█████████████████████████████████████████████████████████████████████████████| 2813/2813 [00:12<00:00, 224.29it/s]\n",
      "100%|███████████████████████████████████████████████████████████████████████████████| 157/157 [00:01<00:00, 143.09it/s]\n",
      "  0%|                                                                                         | 0/2813 [00:00<?, ?it/s]"
     ]
    },
    {
     "name": "stdout",
     "output_type": "stream",
     "text": [
      "Epoch: 4/5,         \n",
      "Train Reconstruction Loss = 0.05883965088624654 = 0.021570523713450182 + 0.03726912714564796,         \n",
      "Validation Reconstruction Loss = 0.05876012184437673 = 0.02156622135999856 + 0.037193900555562064\n"
     ]
    },
    {
     "name": "stderr",
     "output_type": "stream",
     "text": [
      "100%|█████████████████████████████████████████████████████████████████████████████| 2813/2813 [00:12<00:00, 227.54it/s]\n",
      "100%|███████████████████████████████████████████████████████████████████████████████| 157/157 [00:01<00:00, 138.66it/s]"
     ]
    },
    {
     "name": "stdout",
     "output_type": "stream",
     "text": [
      "Epoch: 5/5,         \n",
      "Train Reconstruction Loss = 0.058842258131243434 = 0.02157196946775854 + 0.037270288660174115,         \n",
      "Validation Reconstruction Loss = 0.05876836446440144 = 0.021565937514232983 + 0.03720242705694429\n"
     ]
    },
    {
     "name": "stderr",
     "output_type": "stream",
     "text": [
      "\n"
     ]
    }
   ],
   "source": [
    "for epoch in range(epochs):\n",
    "    train_loss = 0\n",
    "    train_reconstruction_loss = 0\n",
    "    train_teacher_loss = 0\n",
    "    validation_loss = 0\n",
    "    validation_reconstruction_loss = 0\n",
    "    validation_teacher_loss = 0\n",
    "    \n",
    "    # Training Loop\n",
    "    for iteration, batch in enumerate(tqdm(train_dataloader)):\n",
    "        # Reset gradients back to zero for this iteration\n",
    "        optimizer.zero_grad()\n",
    "        \n",
    "        # Get our inputs & our teacher representation\n",
    "        input_batch, teacher_batch = batch\n",
    "        \n",
    "        # Move batch to device\n",
    "        input_batch = input_batch.to(device)\n",
    "\n",
    "        # Run our model & get outputs\n",
    "        outputs, latent_representation = model(input_batch)\n",
    "\n",
    "        # Calculate reconstruction loss\n",
    "        reconstruction_loss = criterion(outputs, input_batch)\n",
    "        teacher_loss = alpha * criterion(latent_representation, teacher_batch)\n",
    "        batch_loss = reconstruction_loss + teacher_loss \n",
    "                  \n",
    "        # Backprop\n",
    "        batch_loss.backward()\n",
    "        \n",
    "        # Update our optimizer parameters\n",
    "        optimizer.step()\n",
    "        \n",
    "        # Add the batch's loss to the total loss for the epoch\n",
    "        train_loss += batch_loss.item()\n",
    "        train_reconstruction_loss += reconstruction_loss.item()\n",
    "        train_teacher_loss += teacher_loss.item()\n",
    "        \n",
    "    # Validation Loop\n",
    "    with torch.no_grad():\n",
    "        for iteration, batch in enumerate(tqdm(validation_dataloader)):\n",
    "            # Get our inputs & our teacher representation\n",
    "            input_batch, teacher_batch = batch\n",
    "            \n",
    "            # Move batch to device\n",
    "            input_batch = input_batch.to(device)\n",
    "\n",
    "            # Run our model & get outputs\n",
    "            outputs, latent_representation = model(input_batch)\n",
    "\n",
    "            # Calculate reconstruction loss\n",
    "            reconstruction_loss = criterion(outputs, input_batch)\n",
    "            teacher_loss = alpha * criterion(latent_representation, teacher_batch)\n",
    "            batch_loss = reconstruction_loss + teacher_loss\n",
    "\n",
    "            # Add the batch's loss to the total loss for the epoch\n",
    "            validation_loss += batch_loss.item()\n",
    "            validation_reconstruction_loss += reconstruction_loss.item()\n",
    "            validation_teacher_loss += teacher_loss.item()\n",
    "    \n",
    "    # Compute the average losses for this epoch\n",
    "    train_loss = train_loss / len(train_dataloader)\n",
    "    train_reconstruction_loss = train_reconstruction_loss / len(train_dataloader)\n",
    "    train_teacher_loss = train_teacher_loss / len(train_dataloader)\n",
    "    \n",
    "    validation_loss = validation_loss / len(validation_dataloader)\n",
    "    validation_reconstruction_loss = validation_reconstruction_loss / len(validation_dataloader)\n",
    "    validation_teacher_loss = validation_teacher_loss / len(validation_dataloader)\n",
    "    \n",
    "    # Print Metrics\n",
    "    print(\n",
    "        f\"Epoch: {epoch+1}/{epochs}, \\\n",
    "        \\nTrain Reconstruction Loss = {train_loss} = {train_reconstruction_loss} + {train_teacher_loss}, \\\n",
    "        \\nValidation Reconstruction Loss = {validation_loss} = {validation_reconstruction_loss} + {validation_teacher_loss}\"\n",
    "    )"
   ]
  },
  {
   "cell_type": "markdown",
   "id": "respective-kingston",
   "metadata": {},
   "source": [
    "# Test Model"
   ]
  },
  {
   "cell_type": "code",
   "execution_count": 37,
   "id": "flexible-roots",
   "metadata": {},
   "outputs": [
    {
     "data": {
      "text/plain": [
       "AutoEncoderWithoutHiddenLayer(\n",
       "  (encoder): Linear(in_features=300, out_features=200, bias=True)\n",
       "  (encoder_activation): Tanh()\n",
       "  (decoder): Linear(in_features=200, out_features=300, bias=True)\n",
       "  (decoder_activation): Tanh()\n",
       ")"
      ]
     },
     "execution_count": 37,
     "metadata": {},
     "output_type": "execute_result"
    }
   ],
   "source": [
    "model.eval()"
   ]
  },
  {
   "cell_type": "code",
   "execution_count": 38,
   "id": "governing-rates",
   "metadata": {},
   "outputs": [
    {
     "name": "stderr",
     "output_type": "stream",
     "text": [
      "100%|███████████████████████████████████████████████████████████████████████████████| 157/157 [00:01<00:00, 123.50it/s]"
     ]
    },
    {
     "name": "stdout",
     "output_type": "stream",
     "text": [
      "Train Reconstruction Loss = 0.05871252117642931 = 0.02152089415129962 + 0.03719162698953774\n"
     ]
    },
    {
     "name": "stderr",
     "output_type": "stream",
     "text": [
      "\n"
     ]
    }
   ],
   "source": [
    "test_loss = 0\n",
    "test_reconstruction_loss = 0\n",
    "test_teacher_loss = 0\n",
    "\n",
    "# Testing Loop\n",
    "with torch.no_grad():\n",
    "    for iteration, batch in enumerate(tqdm(test_dataloader)):\n",
    "        # Get our inputs & our teacher representation\n",
    "        input_batch, teacher_batch = batch\n",
    "\n",
    "        # Move batch to device\n",
    "        input_batch = input_batch.to(device)\n",
    "\n",
    "        # Run our model & get outputs\n",
    "        outputs, latent_representation = model(input_batch)\n",
    "\n",
    "        # Calculate reconstruction loss\n",
    "        reconstruction_loss = criterion(outputs, input_batch)\n",
    "        teacher_loss = alpha * criterion(latent_representation, teacher_batch)\n",
    "        batch_loss = reconstruction_loss + teacher_loss\n",
    "\n",
    "        # Add the batch's loss to the total loss for the epoch\n",
    "        test_loss += batch_loss.item()\n",
    "        test_reconstruction_loss += reconstruction_loss.item()\n",
    "        test_teacher_loss += teacher_loss.item()\n",
    "\n",
    "# Compute the average losses for this epoch\n",
    "test_loss = test_loss / len(test_dataloader)\n",
    "test_reconstruction_loss = test_reconstruction_loss / len(test_dataloader)\n",
    "test_teacher_loss = test_teacher_loss / len(test_dataloader)\n",
    "\n",
    "# Print Metrics\n",
    "print(\n",
    "        f\"Train Reconstruction Loss = {test_loss} = {test_reconstruction_loss} + {test_teacher_loss}\"\n",
    "    )"
   ]
  },
  {
   "cell_type": "markdown",
   "id": "imported-stanley",
   "metadata": {},
   "source": [
    "# Generate Latent Embeddings"
   ]
  },
  {
   "cell_type": "code",
   "execution_count": 39,
   "id": "sophisticated-version",
   "metadata": {},
   "outputs": [
    {
     "name": "stderr",
     "output_type": "stream",
     "text": [
      "400000it [00:20, 19277.60it/s]\n"
     ]
    }
   ],
   "source": [
    "latent_vectors = {}\n",
    "with torch.no_grad():\n",
    "    for i, (word, vector) in enumerate(tqdm(zip(input_words, input_vectors))):\n",
    "        latent_vectors[word] = model.encode(vector)"
   ]
  },
  {
   "cell_type": "code",
   "execution_count": 40,
   "id": "inside-handling",
   "metadata": {
    "scrolled": true
   },
   "outputs": [
    {
     "data": {
      "text/plain": [
       "400000"
      ]
     },
     "execution_count": 40,
     "metadata": {},
     "output_type": "execute_result"
    }
   ],
   "source": [
    "len(latent_vectors)"
   ]
  },
  {
   "cell_type": "code",
   "execution_count": 41,
   "id": "loaded-start",
   "metadata": {},
   "outputs": [
    {
     "data": {
      "text/plain": [
       "tensor([-1.9597e-01, -6.6826e-03, -1.7408e-02, -5.6985e-02,  1.1396e-01,\n",
       "         2.7846e-01, -3.6510e-01, -1.9054e-01,  9.0300e-02, -3.4559e-01,\n",
       "         1.4674e-01,  1.4102e-01, -2.0345e-01,  3.2667e-01,  5.7640e-01,\n",
       "        -9.3950e-02,  2.4402e-01,  2.7191e-01, -4.8436e-01,  8.8162e-03,\n",
       "         5.0870e-01,  9.8735e-01, -9.6114e-02,  9.3112e-03, -7.3997e-02,\n",
       "         1.6817e-01, -1.7894e-01,  2.7836e-01, -4.7498e-02,  3.3836e-01,\n",
       "         2.8852e-01, -3.6578e-01, -9.2604e-02,  1.4476e-01,  7.1821e-02,\n",
       "        -9.9298e-02, -7.1037e-01, -2.4348e-01,  1.0096e-01, -6.0697e-01,\n",
       "        -1.1344e-01, -4.2397e-01, -8.5139e-02,  2.6791e-01, -3.4610e-01,\n",
       "         5.7919e-01,  2.2274e-01,  3.6622e-01,  2.1909e-02,  6.4547e-01,\n",
       "        -2.9479e-01,  1.7762e-01,  4.9113e-01, -4.0611e-03, -4.1202e-01,\n",
       "         5.5324e-02,  1.3703e-01,  1.3798e-01, -2.6209e-01, -2.2337e-01,\n",
       "         7.1571e-02, -6.9467e-02, -6.5866e-01, -2.8166e-01,  3.1617e-01,\n",
       "         1.7332e-01, -1.4714e-02, -8.1437e-02, -4.0623e-02, -5.1473e-02,\n",
       "         4.2659e-01,  8.5795e-02,  3.5790e-01,  1.7996e-01,  3.0867e-02,\n",
       "         6.6175e-01, -8.6438e-02,  2.3157e-01, -3.8465e-02, -3.3540e-01,\n",
       "         3.3319e-02, -5.0720e-01, -4.3882e-01, -2.8650e-03, -4.2421e-02,\n",
       "         2.9991e-01, -4.4936e-01, -3.6156e-01,  7.0961e-01, -7.1881e-01,\n",
       "        -1.0526e-01,  3.4721e-01,  5.7774e-01, -3.5755e-01, -2.2238e-01,\n",
       "        -8.4620e-02,  3.6648e-01, -1.0383e-02,  2.4612e-01, -8.4280e-02,\n",
       "        -9.3313e-02,  1.4116e-01,  2.4864e-01, -8.0297e-02, -3.7550e-01,\n",
       "        -1.9094e-01,  8.6553e-04,  8.7247e-01, -1.0197e-01,  2.1210e-02,\n",
       "         3.0536e-02, -2.4710e-02,  2.0861e-01,  4.1184e-01,  1.4330e-01,\n",
       "         1.4443e-01, -1.0668e-02, -2.4008e-01, -1.6297e-01,  2.1695e-01,\n",
       "         1.0743e-01,  2.7575e-01, -2.5487e-02,  4.5051e-01,  1.7221e-01,\n",
       "        -5.1888e-01,  2.2472e-01,  1.4131e-01, -6.4634e-02,  8.3997e-02,\n",
       "        -1.0796e-01,  1.2421e-01,  4.9705e-01, -2.5403e-01, -1.6597e-01,\n",
       "         7.6517e-02,  1.9018e-01, -1.9084e-01, -3.6264e-01, -8.5170e-02,\n",
       "        -2.3009e-01,  2.0491e-01,  2.9497e-01,  3.2066e-02,  9.0570e-01,\n",
       "        -1.3270e-02,  8.5061e-02, -2.1438e-01, -3.6271e-03,  1.7564e-01,\n",
       "         3.1751e-01,  1.7230e-01,  1.5142e-01, -3.7840e-01,  4.6516e-01,\n",
       "         3.9359e-01, -2.6657e-01,  4.7213e-01, -2.8628e-01, -3.6737e-01,\n",
       "         2.1463e-02, -3.9099e-02, -2.5652e-01,  2.2322e-01, -1.2821e-01,\n",
       "         3.7116e-01, -3.6872e-01, -3.7652e-01, -6.6608e-01,  4.7359e-01,\n",
       "         1.7865e-01,  3.9474e-01,  1.9024e-01, -6.2456e-01,  1.4710e-01,\n",
       "         1.9938e-01, -7.1226e-02, -6.5409e-01, -2.6153e-01,  3.7631e-02,\n",
       "         7.7274e-01, -2.9543e-01,  1.7304e-01, -1.9016e-01, -3.6571e-01,\n",
       "        -2.7864e-01,  3.2329e-02,  3.3780e-01,  1.7050e-01,  6.2897e-01,\n",
       "         1.7262e-01,  1.9622e-01, -1.3844e-01,  2.7634e-01, -2.8130e-01,\n",
       "         1.4103e-01,  6.9174e-02,  3.3749e-01,  1.4117e-01,  2.0223e-01])"
      ]
     },
     "execution_count": 41,
     "metadata": {},
     "output_type": "execute_result"
    }
   ],
   "source": [
    "latent_vectors['the']"
   ]
  },
  {
   "cell_type": "markdown",
   "id": "honest-mount",
   "metadata": {},
   "source": [
    "# Save Model & Embeddings"
   ]
  },
  {
   "cell_type": "code",
   "execution_count": 42,
   "id": "political-eclipse",
   "metadata": {},
   "outputs": [],
   "source": [
    "torch.save(model.state_dict(), f\"models/{experiment_name}.pt\")"
   ]
  },
  {
   "cell_type": "code",
   "execution_count": 43,
   "id": "blond-refrigerator",
   "metadata": {},
   "outputs": [
    {
     "name": "stderr",
     "output_type": "stream",
     "text": [
      "400000it [00:57, 6925.12it/s]\n"
     ]
    }
   ],
   "source": [
    "# Need to convert the latent embeddings into the glove format\n",
    "# word dim1 dim2 dim3 dim4 ... dimX\n",
    "lines = []\n",
    "for i, (word, vector) in tqdm(enumerate(latent_vectors.items())):\n",
    "    line = [word] + [str(x) for x in vector.tolist()]\n",
    "    lines.append(' '.join(line))"
   ]
  },
  {
   "cell_type": "code",
   "execution_count": 44,
   "id": "wooden-conservative",
   "metadata": {},
   "outputs": [],
   "source": [
    "with open(f\"data/embeddings/trained/{experiment_name}.glove.6B.300d.txt\", \"w\", encoding=\"utf-8\") as fp:\n",
    "    fp.write(\"\\n\".join(lines))"
   ]
  },
  {
   "cell_type": "code",
   "execution_count": null,
   "id": "desperate-desire",
   "metadata": {},
   "outputs": [],
   "source": []
  }
 ],
 "metadata": {
  "kernelspec": {
   "display_name": "Python 3",
   "language": "python",
   "name": "python3"
  },
  "language_info": {
   "codemirror_mode": {
    "name": "ipython",
    "version": 3
   },
   "file_extension": ".py",
   "mimetype": "text/x-python",
   "name": "python",
   "nbconvert_exporter": "python",
   "pygments_lexer": "ipython3",
   "version": "3.8.7"
  }
 },
 "nbformat": 4,
 "nbformat_minor": 5
}
